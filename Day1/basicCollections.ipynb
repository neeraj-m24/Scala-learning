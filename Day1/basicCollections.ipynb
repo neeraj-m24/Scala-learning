{
 "cells": [
  {
   "cell_type": "markdown",
   "metadata": {},
   "source": [
    "### Basic collections: list, set, map\n",
    "* Immutable:\n",
    "* Mutable: "
   ]
  },
  {
   "cell_type": "code",
   "execution_count": 3,
   "metadata": {},
   "outputs": [
    {
     "name": "stdout",
     "output_type": "stream",
     "text": [
      "List(1, 2, 3, 4, 5)\n",
      "ListBuffer(5, 6, 7, 10)\n"
     ]
    },
    {
     "data": {
      "text/plain": [
       "\u001b[36mlist\u001b[39m: \u001b[32mList\u001b[39m[\u001b[32mInt\u001b[39m] = \u001b[33mList\u001b[39m(\u001b[32m1\u001b[39m, \u001b[32m2\u001b[39m, \u001b[32m3\u001b[39m, \u001b[32m4\u001b[39m, \u001b[32m5\u001b[39m)\n",
       "\u001b[32mimport \u001b[39m\u001b[36mscala.collection.mutable.ListBuffer\u001b[39m\n",
       "\u001b[36mmutableList\u001b[39m: \u001b[32mListBuffer\u001b[39m[\u001b[32mInt\u001b[39m] = \u001b[33mListBuffer\u001b[39m(\u001b[32m5\u001b[39m, \u001b[32m6\u001b[39m, \u001b[32m7\u001b[39m, \u001b[32m10\u001b[39m)\n",
       "\u001b[36mres3_4\u001b[39m: \u001b[32mListBuffer\u001b[39m[\u001b[32mInt\u001b[39m] = \u001b[33mListBuffer\u001b[39m(\u001b[32m5\u001b[39m, \u001b[32m6\u001b[39m, \u001b[32m7\u001b[39m, \u001b[32m10\u001b[39m)"
      ]
     },
     "execution_count": 3,
     "metadata": {},
     "output_type": "execute_result"
    }
   ],
   "source": [
    "// List\n",
    "\n",
    "// Immutable\n",
    "val list: List[Int] = List(1, 2, 3, 4, 5)\n",
    "println(list)\n",
    "\n",
    "// Mutable\n",
    "import scala.collection.mutable.ListBuffer\n",
    "\n",
    "val mutableList: ListBuffer[Int] = ListBuffer(5,6,7)\n",
    "mutableList += 10 // Adds 10 at the end of the list\n",
    "println(mutableList)\n"
   ]
  },
  {
   "cell_type": "code",
   "execution_count": 6,
   "metadata": {},
   "outputs": [
    {
     "name": "stdout",
     "output_type": "stream",
     "text": [
      "Set(Hashirama, Tobirama, Minato)\n"
     ]
    },
    {
     "data": {
      "text/plain": [
       "\u001b[36mhokageSet\u001b[39m: \u001b[32mSet\u001b[39m[\u001b[32mString\u001b[39m] = \u001b[33mSet\u001b[39m(\u001b[32m\"Hashirama\"\u001b[39m, \u001b[32m\"Tobirama\"\u001b[39m, \u001b[32m\"Minato\"\u001b[39m)"
      ]
     },
     "execution_count": 6,
     "metadata": {},
     "output_type": "execute_result"
    }
   ],
   "source": [
    "// Set\n",
    "\n",
    "// Immutable\n",
    "val hokageSet: Set[String] = Set(\"Hashirama\", \"Tobirama\", \"Minato\")\n",
    "println(hokageSet)\n"
   ]
  },
  {
   "cell_type": "code",
   "execution_count": 9,
   "metadata": {},
   "outputs": [
    {
     "name": "stdout",
     "output_type": "stream",
     "text": [
      "HashSet(Minato, Tobirama, Kakashi, Hashirama, Tsunade)\n"
     ]
    },
    {
     "data": {
      "text/plain": [
       "\u001b[32mimport \u001b[39m\u001b[36mscala.collection.mutable.Set\u001b[39m\n",
       "\u001b[36mmutableHokage\u001b[39m: \u001b[32mSet\u001b[39m[\u001b[32mString\u001b[39m] = \u001b[33mHashSet\u001b[39m(\n",
       "  \u001b[32m\"Minato\"\u001b[39m,\n",
       "  \u001b[32m\"Tobirama\"\u001b[39m,\n",
       "  \u001b[32m\"Kakashi\"\u001b[39m,\n",
       "  \u001b[32m\"Hashirama\"\u001b[39m,\n",
       "  \u001b[32m\"Tsunade\"\u001b[39m\n",
       ")\n",
       "\u001b[36mres9_2\u001b[39m: \u001b[32mSet\u001b[39m[\u001b[32mString\u001b[39m] = \u001b[33mHashSet\u001b[39m(\n",
       "  \u001b[32m\"Minato\"\u001b[39m,\n",
       "  \u001b[32m\"Tobirama\"\u001b[39m,\n",
       "  \u001b[32m\"Kakashi\"\u001b[39m,\n",
       "  \u001b[32m\"Hashirama\"\u001b[39m,\n",
       "  \u001b[32m\"Tsunade\"\u001b[39m\n",
       ")"
      ]
     },
     "execution_count": 9,
     "metadata": {},
     "output_type": "execute_result"
    }
   ],
   "source": [
    "// mutable Set\n",
    "import scala.collection.mutable.Set\n",
    "\n",
    "val mutableHokage: Set[String] = Set(\"Hashirama\", \"Tobirama\", \"Minato\",\"Tsunade\")\n",
    "mutableHokage += \"Kakashi\" // Adds \"orange\"\n",
    "println(mutableHokage)\n"
   ]
  },
  {
   "cell_type": "code",
   "execution_count": 13,
   "metadata": {},
   "outputs": [
    {
     "name": "stdout",
     "output_type": "stream",
     "text": [
      "capital of MP: Bhopal\n"
     ]
    },
    {
     "data": {
      "text/plain": [
       "\u001b[36mcapitalMap\u001b[39m: \u001b[32mMap\u001b[39m[\u001b[32mString\u001b[39m, \u001b[32mString\u001b[39m] = \u001b[33mMap\u001b[39m(\n",
       "  \u001b[32m\"MP\"\u001b[39m -> \u001b[32m\"Bhopal\"\u001b[39m,\n",
       "  \u001b[32m\"Tamil Nadu\"\u001b[39m -> \u001b[32m\"Chennai\"\u001b[39m\n",
       ")\n",
       "\u001b[36mres13_2\u001b[39m: \u001b[32mMap\u001b[39m[\u001b[32mString\u001b[39m, \u001b[32mString\u001b[39m] = \u001b[33mMap\u001b[39m(\n",
       "  \u001b[32m\"MP\"\u001b[39m -> \u001b[32m\"Bhopal\"\u001b[39m,\n",
       "  \u001b[32m\"Tamil Nadu\"\u001b[39m -> \u001b[32m\"Chennai\"\u001b[39m,\n",
       "  \u001b[32m\"Maharastra\"\u001b[39m -> \u001b[32m\"Mumbai\"\u001b[39m\n",
       ")"
      ]
     },
     "execution_count": 13,
     "metadata": {},
     "output_type": "execute_result"
    }
   ],
   "source": [
    "// Map\n",
    "// immutable\n",
    "val capitalMap: Map[String, String] = Map(\"MP\" -> \"Bhopal\", \"Tamil Nadu\" -> \"Chennai\")\n",
    "println(\"capital of MP: \"+capitalMap(\"MP\"))\n",
    "\n",
    "// mutating immutable map will return a new map\n",
    "capitalMap + (\"Maharastra\" -> \"Mumbai\")\n"
   ]
  },
  {
   "cell_type": "code",
   "execution_count": 15,
   "metadata": {},
   "outputs": [
    {
     "name": "stdout",
     "output_type": "stream",
     "text": [
      "HashMap(Bob -> 30, Alice -> 25)\n"
     ]
    },
    {
     "data": {
      "text/plain": [
       "\u001b[32mimport \u001b[39m\u001b[36mscala.collection.mutable.Map\u001b[39m\n",
       "\u001b[36mmutableCapitalMap\u001b[39m: \u001b[32mMap\u001b[39m[\u001b[32mString\u001b[39m, \u001b[32mInt\u001b[39m] = \u001b[33mHashMap\u001b[39m(\u001b[32m\"Bob\"\u001b[39m -> \u001b[32m30\u001b[39m, \u001b[32m\"Alice\"\u001b[39m -> \u001b[32m25\u001b[39m)"
      ]
     },
     "execution_count": 15,
     "metadata": {},
     "output_type": "execute_result"
    }
   ],
   "source": [
    "// Immutable Map\n",
    "import scala.collection.mutable.Map\n",
    "\n",
    "val mutableCapitalMap: Map[String, Int] = Map(\"Alice\" -> 25)\n",
    "mutableCapitalMap(\"Bob\") = 30 // Adds Bob to the map\n",
    "println(mutableCapitalMap)"
   ]
  }
 ],
 "metadata": {
  "kernelspec": {
   "display_name": "Scala",
   "language": "scala",
   "name": "scala"
  },
  "language_info": {
   "codemirror_mode": "text/x-scala",
   "file_extension": ".sc",
   "mimetype": "text/x-scala",
   "name": "scala",
   "nbconvert_exporter": "script",
   "version": "2.13.14"
  }
 },
 "nbformat": 4,
 "nbformat_minor": 2
}
