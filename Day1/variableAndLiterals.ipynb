{
 "cells": [
  {
   "cell_type": "markdown",
   "metadata": {},
   "source": [
    "### Variables\n",
    "\n",
    "* val: creates immutable variable\n",
    "* var:creates mutable variable"
   ]
  },
  {
   "cell_type": "code",
   "execution_count": 2,
   "metadata": {},
   "outputs": [
    {
     "name": "stderr",
     "output_type": "stream",
     "text": [
      "cmd2.sc:2: reassignment to val\n",
      "val res2_1 = pie = 3\n",
      "                 ^\n",
      "Compilation Failed"
     ]
    }
   ],
   "source": [
    "val pie = 3.1428\n",
    "pie = 3\n",
    "\n",
    "print(pie)"
   ]
  },
  {
   "cell_type": "code",
   "execution_count": 2,
   "metadata": {},
   "outputs": [
    {
     "name": "stdout",
     "output_type": "stream",
     "text": [
      "Prayagraj"
     ]
    },
    {
     "data": {
      "text/html": [
       "<div class=\"jp-RenderedText\">\n",
       "<pre><code><span style=\"color: rgb(0, 187, 187)\"><span class=\"ansi-cyan-fg\">name</span></span>: <span style=\"color: rgb(0, 187, 0)\"><span class=\"ansi-green-fg\">String</span></span> = <span style=\"color: rgb(0, 187, 0)\"><span class=\"ansi-green-fg\">&quot;Prayagraj&quot;</span></span></code></pre>\n",
       "</div>"
      ],
      "text/plain": [
       "\u001b[36mname\u001b[39m: \u001b[32mString\u001b[39m = \u001b[32m\"Prayagraj\"\u001b[39m"
      ]
     },
     "metadata": {},
     "output_type": "display_data"
    }
   ],
   "source": [
    "var name = \"Allahbad\"\n",
    "name = \"Prayagraj\"\n",
    "\n",
    "print(name)"
   ]
  },
  {
   "cell_type": "markdown",
   "metadata": {},
   "source": [
    "### Literals: these are basic constants that are asiigned to a variable."
   ]
  },
  {
   "cell_type": "markdown",
   "metadata": {},
   "source": [
    "1. Integer Literals: Literals of type Int and Long. It is decalared using suffix L or I"
   ]
  },
  {
   "cell_type": "code",
   "execution_count": 4,
   "metadata": {},
   "outputs": [
    {
     "name": "stdout",
     "output_type": "stream",
     "text": [
      "Integr Literal: 24\n",
      "Decimal Literal: 24\n",
      "HexaDecimal Literal: 4095\n"
     ]
    },
    {
     "data": {
      "text/plain": [
       "\u001b[36mintLiteral\u001b[39m: \u001b[32mInt\u001b[39m = \u001b[32m24\u001b[39m\n",
       "\u001b[36mdecimalLiteral\u001b[39m: \u001b[32mLong\u001b[39m = \u001b[32m24L\u001b[39m\n",
       "\u001b[36mhexaDdecimalLiteral\u001b[39m: \u001b[32mInt\u001b[39m = \u001b[32m4095\u001b[39m"
      ]
     },
     "execution_count": 4,
     "metadata": {},
     "output_type": "execute_result"
    }
   ],
   "source": [
    "// Integer Literal\n",
    "val intLiteral = 24\n",
    "\n",
    "// Decimal Literal\n",
    "val decimalLiteral = 24L\n",
    "\n",
    "// HexaDecimal Literal\n",
    "val hexaDdecimalLiteral = 0XFFF\n",
    "\n",
    "println(\"Integr Literal: \"+ intLiteral)\n",
    "println(\"Decimal Literal: \"+ decimalLiteral)\n",
    "println(\"HexaDecimal Literal: \"+ hexaDdecimalLiteral)"
   ]
  },
  {
   "cell_type": "markdown",
   "metadata": {},
   "source": [
    "2. Floating point Literals: Literals of type Float and Double. It is decalared using suffix f/F or d/D"
   ]
  },
  {
   "cell_type": "code",
   "execution_count": 5,
   "metadata": {},
   "outputs": [
    {
     "name": "stdout",
     "output_type": "stream",
     "text": [
      "Float Literal: 12.35\n",
      "Double Literal Literal: 123.5445\n"
     ]
    },
    {
     "data": {
      "text/plain": [
       "\u001b[36mfloatLiteral\u001b[39m: \u001b[32mFloat\u001b[39m = \u001b[32m12.35F\u001b[39m\n",
       "\u001b[36mdoubleLiteral\u001b[39m: \u001b[32mDouble\u001b[39m = \u001b[32m123.5445\u001b[39m"
      ]
     },
     "execution_count": 5,
     "metadata": {},
     "output_type": "execute_result"
    }
   ],
   "source": [
    "// Float Literal\n",
    "val floatLiteral = 12.35f\n",
    "\n",
    "// Double Literal\n",
    "val doubleLiteral = 123.5445d\n",
    "\n",
    "println(\"Float Literal: \"+ floatLiteral)\n",
    "println(\"Double Literal Literal: \"+ doubleLiteral)"
   ]
  },
  {
   "cell_type": "markdown",
   "metadata": {},
   "source": [
    "3. Character Literals: single characters written in single quotes"
   ]
  },
  {
   "cell_type": "code",
   "execution_count": 6,
   "metadata": {},
   "outputs": [
    {
     "name": "stdout",
     "output_type": "stream",
     "text": [
      "T\n",
      "↑\n"
     ]
    },
    {
     "data": {
      "text/plain": [
       "\u001b[36mcharValue\u001b[39m: \u001b[32mChar\u001b[39m = \u001b[32m'T'\u001b[39m\n",
       "\u001b[36marrowCode\u001b[39m: \u001b[32mChar\u001b[39m = \u001b[32m'↑'\u001b[39m"
      ]
     },
     "execution_count": 6,
     "metadata": {},
     "output_type": "execute_result"
    }
   ],
   "source": [
    "val charValue = 'T'\n",
    "val arrowCode = '\\u2191'\n",
    "\n",
    "println(charValue)\n",
    "println(arrowCode)"
   ]
  },
  {
   "cell_type": "markdown",
   "metadata": {},
   "source": [
    "4. String Literal: Strings written with double quotes \" and with tripple double quotes \"\"\" "
   ]
  },
  {
   "cell_type": "code",
   "execution_count": 9,
   "metadata": {},
   "outputs": [
    {
     "name": "stdout",
     "output_type": "stream",
     "text": [
      "Single-line string literal: Hello, world!\n",
      "Multi-line string literal: This is\n",
      "multiline string\n",
      "lteral\n"
     ]
    },
    {
     "data": {
      "text/plain": [
       "\u001b[36mmessage\u001b[39m: \u001b[32mString\u001b[39m = \u001b[32m\"Hello, world!\"\u001b[39m\n",
       "\u001b[36mmultilineLiteral\u001b[39m: \u001b[32mString\u001b[39m = \u001b[32m\"\"\"This is\n",
       "multiline string\n",
       "lteral\"\"\"\u001b[39m"
      ]
     },
     "execution_count": 9,
     "metadata": {},
     "output_type": "execute_result"
    }
   ],
   "source": [
    "// Single-line string literal\n",
    "val message = \"Hello, world!\"\n",
    "\n",
    "// Multi-line string literal:\n",
    "val multilineLiteral = \"\"\"This is\n",
    "multiline string\n",
    "lteral\"\"\"\n",
    "\n",
    "println(\"Single-line string literal: \" +message)\n",
    "println(\"Multi-line string literal: \" +multilineLiteral)"
   ]
  },
  {
   "cell_type": "markdown",
   "metadata": {},
   "source": [
    "5. Boolean Literal: true/false"
   ]
  },
  {
   "cell_type": "code",
   "execution_count": 10,
   "metadata": {},
   "outputs": [
    {
     "name": "stdout",
     "output_type": "stream",
     "text": [
      "Boolean literal: true"
     ]
    },
    {
     "data": {
      "text/plain": [
       "\u001b[36mflag\u001b[39m: \u001b[32mBoolean\u001b[39m = \u001b[32mtrue\u001b[39m"
      ]
     },
     "execution_count": 10,
     "metadata": {},
     "output_type": "execute_result"
    }
   ],
   "source": [
    "val flag = true\n",
    "print(\"Boolean literal: \"+flag)"
   ]
  }
 ],
 "metadata": {
  "kernelspec": {
   "display_name": "Scala",
   "language": "scala",
   "name": "scala"
  },
  "language_info": {
   "codemirror_mode": "text/x-scala",
   "file_extension": ".sc",
   "mimetype": "text/x-scala",
   "name": "scala",
   "nbconvert_exporter": "script",
   "version": "2.13.14"
  }
 },
 "nbformat": 4,
 "nbformat_minor": 2
}
