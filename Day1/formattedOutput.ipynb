{
 "cells": [
  {
   "cell_type": "markdown",
   "metadata": {},
   "source": [
    "## Formatted Output"
   ]
  },
  {
   "cell_type": "markdown",
   "metadata": {},
   "source": [
    "### print: prints the string and does not return the control over to next line\n",
    "* below code will be printed together on the same line\n"
   ]
  },
  {
   "cell_type": "code",
   "execution_count": 1,
   "metadata": {},
   "outputs": [
    {
     "name": "stdout",
     "output_type": "stream",
     "text": [
      "HelloWorld"
     ]
    }
   ],
   "source": [
    "print(\"Hello\")\n",
    "print(\"World\")"
   ]
  },
  {
   "cell_type": "markdown",
   "metadata": {},
   "source": [
    "### println : prints the string and returns the control to the next line\n",
    "* below code will be printed on the new lines"
   ]
  },
  {
   "cell_type": "code",
   "execution_count": 2,
   "metadata": {},
   "outputs": [
    {
     "name": "stdout",
     "output_type": "stream",
     "text": [
      "First Line\n",
      "Second Line\n"
     ]
    }
   ],
   "source": [
    "println(\"First Line\")\n",
    "println(\"Second Line\")"
   ]
  },
  {
   "cell_type": "markdown",
   "metadata": {},
   "source": [
    "### printf: formats output in a particular manner by using format specifiers '%s', '%d' etc"
   ]
  },
  {
   "cell_type": "code",
   "execution_count": 4,
   "metadata": {},
   "outputs": [
    {
     "name": "stdout",
     "output_type": "stream",
     "text": [
      "value of pie is: 3.142800"
     ]
    },
    {
     "data": {
      "text/plain": [
       "\u001b[36mpie\u001b[39m: \u001b[32mDouble\u001b[39m = \u001b[32m3.1428\u001b[39m"
      ]
     },
     "execution_count": 4,
     "metadata": {},
     "output_type": "execute_result"
    }
   ],
   "source": [
    "val pie = 3.1428\n",
    "printf(\"value of pie is: %f\",pie)"
   ]
  },
  {
   "cell_type": "markdown",
   "metadata": {},
   "source": [
    "### String Interpolation\n",
    "1. s\"\" interpolator: we can directly use variable names inside a string by using $variable and can also be used to evaluate expressions.\n"
   ]
  },
  {
   "cell_type": "code",
   "execution_count": 18,
   "metadata": {},
   "outputs": [
    {
     "name": "stdout",
     "output_type": "stream",
     "text": [
      "His name is John Doe\n",
      "evaluating expression 2 + 4 = 6\n"
     ]
    },
    {
     "data": {
      "text/plain": [
       "\u001b[36mfirstName\u001b[39m: \u001b[32mString\u001b[39m = \u001b[32m\"John\"\u001b[39m\n",
       "\u001b[36mlastName\u001b[39m: \u001b[32mString\u001b[39m = \u001b[32m\"Doe\"\u001b[39m"
      ]
     },
     "execution_count": 18,
     "metadata": {},
     "output_type": "execute_result"
    }
   ],
   "source": [
    "val firstName = \"John\"\n",
    "val lastName = \"Doe\"\n",
    "println(s\"His name is $firstName $lastName\")\n",
    "println(s\"evaluating expression 2 + 4 = ${2+4}\")"
   ]
  },
  {
   "cell_type": "markdown",
   "metadata": {},
   "source": [
    "2. f\"\" interpolator: allows formatting strings by using variable names inside string directly followed by their format modifiers. It can also be used to evaluate expressions"
   ]
  },
  {
   "cell_type": "code",
   "execution_count": 17,
   "metadata": {},
   "outputs": [
    {
     "name": "stdout",
     "output_type": "stream",
     "text": [
      "Demon Slayer anime series will be completed in 3 parts\n",
      "evaluating expression 45 * 65 =  3015\n",
      "value of pie upto 2 decimals 3.14\n"
     ]
    },
    {
     "data": {
      "text/plain": [
       "\u001b[36manimeName\u001b[39m: \u001b[32mString\u001b[39m = \u001b[32m\"Demon Slayer\"\u001b[39m\n",
       "\u001b[36mnumParts\u001b[39m: \u001b[32mInt\u001b[39m = \u001b[32m3\u001b[39m"
      ]
     },
     "execution_count": 17,
     "metadata": {},
     "output_type": "execute_result"
    }
   ],
   "source": [
    "val animeName = \"Demon Slayer\"\n",
    "val numParts = 3\n",
    "\n",
    "println(f\"$animeName%s anime series will be completed in $numParts%d parts\")\n",
    "println(f\"evaluating expression 45 * 65 =  ${45*67}\")\n",
    "println(f\"value of pie upto 2 decimals $pie%.2f\")"
   ]
  },
  {
   "cell_type": "markdown",
   "metadata": {},
   "source": [
    "3. raw\"\" interpolator: It is similar to s\"\" interpolator but it does not escapes the escape characters like \\n  ."
   ]
  },
  {
   "cell_type": "code",
   "execution_count": 24,
   "metadata": {},
   "outputs": [
    {
     "name": "stdout",
     "output_type": "stream",
     "text": [
      "First Name: John \\n Last Name: Doe\n",
      "2 * 4 = 8"
     ]
    }
   ],
   "source": [
    "println(raw\"First Name: $firstName \\n Last Name: $lastName\")\n"
   ]
  }
 ],
 "metadata": {
  "kernelspec": {
   "display_name": "Scala",
   "language": "scala",
   "name": "scala"
  },
  "language_info": {
   "codemirror_mode": "text/x-scala",
   "file_extension": ".sc",
   "mimetype": "text/x-scala",
   "name": "scala",
   "nbconvert_exporter": "script",
   "version": "2.13.14"
  }
 },
 "nbformat": 4,
 "nbformat_minor": 2
}
