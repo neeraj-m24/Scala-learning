{
 "cells": [
  {
   "cell_type": "markdown",
   "metadata": {},
   "source": [
    "### Arrays"
   ]
  },
  {
   "cell_type": "code",
   "execution_count": 6,
   "metadata": {},
   "outputs": [
    {
     "name": "stdout",
     "output_type": "stream",
     "text": [
      "element at index=2 : 3\n",
      "updated value at index=2 : 99\n",
      "length of array: 7\n",
      "apple\n",
      "banana\n",
      "mango\n"
     ]
    },
    {
     "data": {
      "text/plain": [
       "\u001b[36marr1\u001b[39m: \u001b[32mArray\u001b[39m[\u001b[32mInt\u001b[39m] = \u001b[33mArray\u001b[39m(\u001b[32m1\u001b[39m, \u001b[32m2\u001b[39m, \u001b[32m99\u001b[39m, \u001b[32m4\u001b[39m, \u001b[32m5\u001b[39m, \u001b[32m6\u001b[39m, \u001b[32m7\u001b[39m)\n",
       "\u001b[36mfruits\u001b[39m: \u001b[32mList\u001b[39m[\u001b[32mString\u001b[39m] = \u001b[33mList\u001b[39m(\u001b[32m\"apple\"\u001b[39m, \u001b[32m\"banana\"\u001b[39m, \u001b[32m\"mango\"\u001b[39m)"
      ]
     },
     "execution_count": 6,
     "metadata": {},
     "output_type": "execute_result"
    }
   ],
   "source": [
    "val arr1 = Array(1,2,3,4,5,6,7)\n",
    "\n",
    "// accessing array element by index\n",
    "println(\"element at index=2 : \"+arr1(2))\n",
    "\n",
    "// updating value\n",
    "arr1(2) = 99\n",
    "println(\"updated value at index=2 : \"+arr1(2))\n",
    "\n",
    "// length of array\n",
    "println(\"length of array: \"+arr1.length)\n",
    "\n",
    "// iterating over array\n",
    "val fruits = List(\"apple\", \"banana\", \"mango\")\n",
    "\n",
    "for (fruit <- fruits) {\n",
    "  println(fruit)\n",
    "}"
   ]
  },
  {
   "cell_type": "code",
   "execution_count": 7,
   "metadata": {},
   "outputs": [
    {
     "name": "stdout",
     "output_type": "stream",
     "text": [
      "Combined arr: [I@1b4e28f4\n"
     ]
    },
    {
     "data": {
      "text/plain": [
       "\u001b[36marr2\u001b[39m: \u001b[32mArray\u001b[39m[\u001b[32mInt\u001b[39m] = \u001b[33mArray\u001b[39m(\u001b[32m23\u001b[39m, \u001b[32m23\u001b[39m, \u001b[32m23\u001b[39m, \u001b[32m23\u001b[39m, \u001b[32m23\u001b[39m, \u001b[32m23\u001b[39m, \u001b[32m23\u001b[39m, \u001b[32m23\u001b[39m)\n",
       "\u001b[36mcombinedArr\u001b[39m: \u001b[32mArray\u001b[39m[\u001b[32mInt\u001b[39m] = \u001b[33mArray\u001b[39m(\n",
       "  \u001b[32m1\u001b[39m,\n",
       "  \u001b[32m2\u001b[39m,\n",
       "  \u001b[32m99\u001b[39m,\n",
       "  \u001b[32m4\u001b[39m,\n",
       "  \u001b[32m5\u001b[39m,\n",
       "  \u001b[32m6\u001b[39m,\n",
       "  \u001b[32m7\u001b[39m,\n",
       "  \u001b[32m23\u001b[39m,\n",
       "  \u001b[32m23\u001b[39m,\n",
       "  \u001b[32m23\u001b[39m,\n",
       "  \u001b[32m23\u001b[39m,\n",
       "  \u001b[32m23\u001b[39m,\n",
       "  \u001b[32m23\u001b[39m,\n",
       "  \u001b[32m23\u001b[39m,\n",
       "  \u001b[32m23\u001b[39m\n",
       ")"
      ]
     },
     "execution_count": 7,
     "metadata": {},
     "output_type": "execute_result"
    }
   ],
   "source": [
    "// combining arrays\n",
    "val arr2 = Array.fill(8)(23)\n",
    "val combinedArr = arr1 ++ arr2\n",
    "println(\"Combined arr: \"+combinedArr)"
   ]
  },
  {
   "cell_type": "markdown",
   "metadata": {},
   "source": [
    "### Multidimensional array"
   ]
  },
  {
   "cell_type": "code",
   "execution_count": 12,
   "metadata": {},
   "outputs": [
    {
     "name": "stdout",
     "output_type": "stream",
     "text": [
      "1 ->2 ->3 ->\n",
      "4 ->5 ->6 ->\n",
      "7 ->8 ->9 ->\n"
     ]
    },
    {
     "data": {
      "text/plain": [
       "\u001b[36mmatrix\u001b[39m: \u001b[32mArray\u001b[39m[\u001b[32mArray\u001b[39m[\u001b[32mInt\u001b[39m]] = \u001b[33mArray\u001b[39m(\n",
       "  \u001b[33mArray\u001b[39m(\u001b[32m1\u001b[39m, \u001b[32m2\u001b[39m, \u001b[32m3\u001b[39m),\n",
       "  \u001b[33mArray\u001b[39m(\u001b[32m4\u001b[39m, \u001b[32m5\u001b[39m, \u001b[32m6\u001b[39m),\n",
       "  \u001b[33mArray\u001b[39m(\u001b[32m7\u001b[39m, \u001b[32m8\u001b[39m, \u001b[32m9\u001b[39m)\n",
       ")"
      ]
     },
     "execution_count": 12,
     "metadata": {},
     "output_type": "execute_result"
    }
   ],
   "source": [
    "val matrix: Array[Array[Int]] = Array(\n",
    "  Array(1, 2, 3),\n",
    "  Array(4, 5, 6),\n",
    "  Array(7, 8, 9)\n",
    ")\n",
    "\n",
    "for(row <- matrix){\n",
    "    for(el <- row){\n",
    "        print(s\"$el ->\")\n",
    "    }\n",
    "    print(\"\\n\")\n",
    "}\n"
   ]
  }
 ],
 "metadata": {
  "kernelspec": {
   "display_name": "Scala",
   "language": "scala",
   "name": "scala"
  },
  "language_info": {
   "codemirror_mode": "text/x-scala",
   "file_extension": ".sc",
   "mimetype": "text/x-scala",
   "name": "scala",
   "nbconvert_exporter": "script",
   "version": "2.13.14"
  }
 },
 "nbformat": 4,
 "nbformat_minor": 2
}
