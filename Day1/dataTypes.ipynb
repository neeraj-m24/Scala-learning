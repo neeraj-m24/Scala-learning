{
 "cells": [
  {
   "cell_type": "markdown",
   "metadata": {},
   "source": [
    "### Data Types\n",
    "\n",
    "* We can either declare data types by ourselves or scala can also infer it by itself\n",
    "* Default data types for numbers are Int & Double.\n",
    "\n",
    "1. Byte"
   ]
  },
  {
   "cell_type": "code",
   "execution_count": 18,
   "metadata": {},
   "outputs": [
    {
     "name": "stdout",
     "output_type": "stream",
     "text": [
      "Byte: -128"
     ]
    },
    {
     "data": {
      "text/plain": [
       "\u001b[36mnum1\u001b[39m: \u001b[32mByte\u001b[39m = \u001b[32m-128\u001b[39m"
      ]
     },
     "execution_count": 18,
     "metadata": {},
     "output_type": "execute_result"
    }
   ],
   "source": [
    "val num1:Byte = -128\n",
    "print(\"Byte: \"+num1)"
   ]
  },
  {
   "cell_type": "markdown",
   "metadata": {},
   "source": [
    "2. short"
   ]
  },
  {
   "cell_type": "code",
   "execution_count": 19,
   "metadata": {},
   "outputs": [
    {
     "name": "stdout",
     "output_type": "stream",
     "text": [
      "short: 32767"
     ]
    },
    {
     "data": {
      "text/plain": [
       "\u001b[36mnum2\u001b[39m: \u001b[32mShort\u001b[39m = \u001b[32m32767\u001b[39m"
      ]
     },
     "execution_count": 19,
     "metadata": {},
     "output_type": "execute_result"
    }
   ],
   "source": [
    "val num2:Short = 32767\n",
    "print(\"short: \"+num2)"
   ]
  },
  {
   "cell_type": "markdown",
   "metadata": {},
   "source": [
    "3. Integer. If type of an integer is not specified it will be infered as int."
   ]
  },
  {
   "cell_type": "code",
   "execution_count": 24,
   "metadata": {},
   "outputs": [
    {
     "name": "stdout",
     "output_type": "stream",
     "text": [
      "Int: 2147483647\n",
      "656565\n"
     ]
    },
    {
     "data": {
      "text/plain": [
       "\u001b[36mnum3\u001b[39m: \u001b[32mInt\u001b[39m = \u001b[32m2147483647\u001b[39m\n",
       "\u001b[36minferedNum1\u001b[39m: \u001b[32mInt\u001b[39m = \u001b[32m656565\u001b[39m"
      ]
     },
     "execution_count": 24,
     "metadata": {},
     "output_type": "execute_result"
    }
   ],
   "source": [
    "val num3:Int = 2147483647\n",
    "val inferedNum1 = 656565\n",
    "println(\"Int: \"+num3)\n",
    "println(inferedNum1)"
   ]
  },
  {
   "cell_type": "markdown",
   "metadata": {},
   "source": [
    "4. Long: We can append L to specify this number is of Long Type"
   ]
  },
  {
   "cell_type": "code",
   "execution_count": 21,
   "metadata": {},
   "outputs": [
    {
     "name": "stdout",
     "output_type": "stream",
     "text": [
      "Long: 785957"
     ]
    },
    {
     "data": {
      "text/plain": [
       "\u001b[36mnum4\u001b[39m: \u001b[32mLong\u001b[39m = \u001b[32m785957L\u001b[39m"
      ]
     },
     "execution_count": 21,
     "metadata": {},
     "output_type": "execute_result"
    }
   ],
   "source": [
    "val num4:Long = 785957L\n",
    "print(\"Long: \"+num4)"
   ]
  },
  {
   "cell_type": "markdown",
   "metadata": {},
   "source": [
    "5. Float: We can append D to specify this number is of Float type"
   ]
  },
  {
   "cell_type": "code",
   "execution_count": 22,
   "metadata": {},
   "outputs": [
    {
     "name": "stdout",
     "output_type": "stream",
     "text": [
      "Float: 12526.726"
     ]
    },
    {
     "data": {
      "text/plain": [
       "\u001b[36mnum5\u001b[39m: \u001b[32mFloat\u001b[39m = \u001b[32m12526.726F\u001b[39m"
      ]
     },
     "execution_count": 22,
     "metadata": {},
     "output_type": "execute_result"
    }
   ],
   "source": [
    "val num5:Float = 12526.726F\n",
    "print(\"Float: \"+num5)"
   ]
  },
  {
   "cell_type": "markdown",
   "metadata": {},
   "source": [
    "6. Double: Default infered type for a decimal number is double. We can append D to number to specify it is Double."
   ]
  },
  {
   "cell_type": "code",
   "execution_count": 25,
   "metadata": {},
   "outputs": [
    {
     "name": "stdout",
     "output_type": "stream",
     "text": [
      "Double4645756.565\n",
      "6.565666577557575E7\n"
     ]
    },
    {
     "data": {
      "text/plain": [
       "\u001b[36mnum6\u001b[39m: \u001b[32mDouble\u001b[39m = \u001b[32m4645756.565\u001b[39m\n",
       "\u001b[36minferedNum2\u001b[39m: \u001b[32mDouble\u001b[39m = \u001b[32m6.565666577557575E7\u001b[39m"
      ]
     },
     "execution_count": 25,
     "metadata": {},
     "output_type": "execute_result"
    }
   ],
   "source": [
    "val num6:Double = 4645756.565D\n",
    "val inferedNum2 = 65656665.77557575\n",
    "println(\"Double\"+num6)\n",
    "println(inferedNum2)"
   ]
  },
  {
   "cell_type": "markdown",
   "metadata": {},
   "source": [
    "7. BigInt: BigInteger is used to store large integer values"
   ]
  },
  {
   "cell_type": "code",
   "execution_count": 26,
   "metadata": {},
   "outputs": [
    {
     "name": "stdout",
     "output_type": "stream",
     "text": [
      "BigInt: 1234567890987654321"
     ]
    },
    {
     "data": {
      "text/plain": [
       "\u001b[36mnum7\u001b[39m: \u001b[32mBigInt\u001b[39m = 1234567890987654321"
      ]
     },
     "execution_count": 26,
     "metadata": {},
     "output_type": "execute_result"
    }
   ],
   "source": [
    "val num7:BigInt = BigInt(1_234_567_890_987_654_321L)   // we can exclude adding BigInt type in LHS\n",
    "print(\"BigInt: \"+num7)"
   ]
  },
  {
   "cell_type": "markdown",
   "metadata": {},
   "source": [
    "8. BigDecimal: BigDecimal is more precise than float and decimal."
   ]
  },
  {
   "cell_type": "code",
   "execution_count": 27,
   "metadata": {},
   "outputs": [
    {
     "name": "stdout",
     "output_type": "stream",
     "text": [
      "BigDecimal: 123456.789"
     ]
    },
    {
     "data": {
      "text/plain": [
       "\u001b[36mnum8\u001b[39m: \u001b[32mBigDecimal\u001b[39m = 123456.789"
      ]
     },
     "execution_count": 27,
     "metadata": {},
     "output_type": "execute_result"
    }
   ],
   "source": [
    "val num8:BigDecimal = BigDecimal(123_456.789)  // we can exclude adding BigDecimal type in LHS\n",
    "print(\"BigDecimal: \"+num8)"
   ]
  },
  {
   "cell_type": "markdown",
   "metadata": {},
   "source": [
    "9. Boolean"
   ]
  },
  {
   "cell_type": "code",
   "execution_count": 28,
   "metadata": {},
   "outputs": [
    {
     "name": "stdout",
     "output_type": "stream",
     "text": [
      "Boolean: false"
     ]
    },
    {
     "data": {
      "text/plain": [
       "\u001b[36memptyArray\u001b[39m: \u001b[32mBoolean\u001b[39m = \u001b[32mfalse\u001b[39m"
      ]
     },
     "execution_count": 28,
     "metadata": {},
     "output_type": "execute_result"
    }
   ],
   "source": [
    "val emptyArray:Boolean = false\n",
    "print(\"Boolean: \"+emptyArray)"
   ]
  }
 ],
 "metadata": {
  "kernelspec": {
   "display_name": "Scala",
   "language": "scala",
   "name": "scala"
  },
  "language_info": {
   "codemirror_mode": "text/x-scala",
   "file_extension": ".sc",
   "mimetype": "text/x-scala",
   "name": "scala",
   "nbconvert_exporter": "script",
   "version": "2.13.14"
  }
 },
 "nbformat": 4,
 "nbformat_minor": 2
}
