{
 "cells": [
  {
   "cell_type": "markdown",
   "metadata": {},
   "source": [
    "### Conditional Statement\n",
    "1. if-else\n",
    "2. match expression\n",
    "3. guard conditions: used for pattern match\n",
    "4. ternary operator"
   ]
  },
  {
   "cell_type": "code",
   "execution_count": 3,
   "metadata": {},
   "outputs": [
    {
     "name": "stdout",
     "output_type": "stream",
     "text": [
      "negative\n"
     ]
    },
    {
     "data": {
      "text/plain": [
       "\u001b[36mx\u001b[39m: \u001b[32mInt\u001b[39m = \u001b[32m-29\u001b[39m"
      ]
     },
     "execution_count": 3,
     "metadata": {},
     "output_type": "execute_result"
    }
   ],
   "source": [
    "val x = -29\n",
    "\n",
    "if (x < 0 )\n",
    "  println(\"negative\")\n",
    "else if( x == 0 )\n",
    "  println(\"zero\")\n",
    "else\n",
    "  println(\"positive\")"
   ]
  },
  {
   "cell_type": "code",
   "execution_count": 9,
   "metadata": {},
   "outputs": [
    {
     "name": "stdout",
     "output_type": "stream",
     "text": [
      "FebruaryYour grade is : Fail or marks not recognized!\n"
     ]
    },
    {
     "data": {
      "text/plain": [
       "\u001b[36mmonth\u001b[39m: \u001b[32mString\u001b[39m = \u001b[32m\"Feb\"\u001b[39m\n",
       "\u001b[36mmarks\u001b[39m: \u001b[32mInt\u001b[39m = \u001b[32m17\u001b[39m\n",
       "\u001b[36mgrade\u001b[39m: \u001b[32mString\u001b[39m = \u001b[32m\"Fail or marks not recognized!\"\u001b[39m"
      ]
     },
     "execution_count": 9,
     "metadata": {},
     "output_type": "execute_result"
    }
   ],
   "source": [
    "// match expression\n",
    "\n",
    "val month = \"Feb\"\n",
    "\n",
    "month match{\n",
    "    case \"Jan\" => print(\"January\")\n",
    "    case \"Feb\" => print(\"February\")\n",
    "    case \"March\" => print(\"March\")\n",
    "    case _ => print(\"Month not recognized\")\n",
    "}\n",
    "\n",
    "// Guard\n",
    "val marks = 87\n",
    "\n",
    "val grade = marks match{\n",
    "    case score if score > 95 => \"S\"\n",
    "    case score if(score <= 95 && score >85) => \"A\"\n",
    "    case score if(score <= 85 && score >75) => \"A\"\n",
    "    case score if(score <= 75 && score >65) => \"A\"\n",
    "    case score if(score < 75 && score >33) => \"D\"\n",
    "    case _ => \"Fail or marks not recognized!\"\n",
    "} \n",
    "\n",
    "println(\"Your grade is : \"+grade)"
   ]
  },
  {
   "cell_type": "code",
   "execution_count": 13,
   "metadata": {},
   "outputs": [
    {
     "name": "stdout",
     "output_type": "stream",
     "text": [
      "Eligibility : true\n"
     ]
    },
    {
     "data": {
      "text/plain": [
       "\u001b[36mage\u001b[39m: \u001b[32mInt\u001b[39m = \u001b[32m21\u001b[39m\n",
       "\u001b[36meligibility\u001b[39m: \u001b[32mBoolean\u001b[39m = \u001b[32mtrue\u001b[39m"
      ]
     },
     "execution_count": 13,
     "metadata": {},
     "output_type": "execute_result"
    }
   ],
   "source": [
    "// Ternary operator\n",
    "val age = 21\n",
    "val eligibility = if (age >= 18)  true else false\n",
    "println(\"Eligibility : \"+eligibility)"
   ]
  },
  {
   "cell_type": "markdown",
   "metadata": {},
   "source": [
    "### Jump statements\n",
    "1. break: breaks out of current loop. Can imitiate this by scala.util.control.Breaks\n",
    "2. continue: skips current iteration that matches condition for continue. Scala don't have it build in but we can mimic it using conditional statements.\n",
    "3. return: exits a method and returns a value"
   ]
  },
  {
   "cell_type": "code",
   "execution_count": 22,
   "metadata": {},
   "outputs": [
    {
     "name": "stdout",
     "output_type": "stream",
     "text": [
      "Executing\n",
      "Executing\n",
      "Executing\n",
      "Bypassing : 3\n",
      "Executing\n",
      "Executing\n",
      "Executing\n",
      "Executing\n",
      "Executing\n"
     ]
    },
    {
     "data": {
      "text/plain": [
       "\u001b[36mnum\u001b[39m: \u001b[32mInt\u001b[39m = \u001b[32m3\u001b[39m"
      ]
     },
     "execution_count": 22,
     "metadata": {},
     "output_type": "execute_result"
    }
   ],
   "source": [
    "val num = 3\n",
    "for(i <- 0 until 9){\n",
    "    if(i==num){\n",
    "        println(\"Bypassing : \"+num)\n",
    "    }\n",
    "    else{\n",
    "        println(\"Executing\")\n",
    "    }\n",
    "}"
   ]
  },
  {
   "cell_type": "code",
   "execution_count": 18,
   "metadata": {},
   "outputs": [
    {
     "name": "stdout",
     "output_type": "stream",
     "text": [
      "Breaking out of loop for j = 100\n"
     ]
    },
    {
     "data": {
      "text/plain": [
       "\u001b[32mimport \u001b[39m\u001b[36mscala.util.control.Breaks._\u001b[39m"
      ]
     },
     "execution_count": 18,
     "metadata": {},
     "output_type": "execute_result"
    }
   ],
   "source": [
    "import scala.util.control.Breaks._\n",
    "breakable{\n",
    "    for(i <- 0 to 10){\n",
    "    for(j<-i to i*i){\n",
    "        if(j == 100){\n",
    "            println(\"Breaking out of loop for j = 100\")\n",
    "            break()\n",
    "        }\n",
    "    }\n",
    "}\n",
    "}"
   ]
  },
  {
   "cell_type": "code",
   "execution_count": null,
   "metadata": {},
   "outputs": [],
   "source": [
    "// continue"
   ]
  },
  {
   "cell_type": "code",
   "execution_count": 21,
   "metadata": {},
   "outputs": [
    {
     "name": "stdout",
     "output_type": "stream",
     "text": [
      "Can i get my turn today: false\n"
     ]
    },
    {
     "data": {
      "text/plain": [
       "defined \u001b[32mfunction\u001b[39m \u001b[36mturn\u001b[39m"
      ]
     },
     "execution_count": 21,
     "metadata": {},
     "output_type": "execute_result"
    }
   ],
   "source": [
    "// return\n",
    "def turn(n:Int):Boolean = {\n",
    "    for(i <- 1 until 100){\n",
    "        if (i==n){\n",
    "            return true\n",
    "        }\n",
    "    }\n",
    "\n",
    "    return false\n",
    "}\n",
    "\n",
    "println(\"Can i get my turn today: \"+turn(106))"
   ]
  }
 ],
 "metadata": {
  "kernelspec": {
   "display_name": "Scala",
   "language": "scala",
   "name": "scala"
  },
  "language_info": {
   "codemirror_mode": "text/x-scala",
   "file_extension": ".sc",
   "mimetype": "text/x-scala",
   "name": "scala",
   "nbconvert_exporter": "script",
   "version": "2.13.14"
  }
 },
 "nbformat": 4,
 "nbformat_minor": 2
}
