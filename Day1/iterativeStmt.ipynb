{
 "cells": [
  {
   "cell_type": "markdown",
   "metadata": {},
   "source": [
    "#### Iterative statements\n",
    "1. For loop\n",
    "2. While loop\n",
    "3. Do-while loop"
   ]
  },
  {
   "cell_type": "code",
   "execution_count": 15,
   "metadata": {},
   "outputs": [
    {
     "name": "stdout",
     "output_type": "stream",
     "text": [
      "1\n",
      "2\n",
      "3\n",
      "4\n",
      "5\n",
      "================\n",
      "5\n",
      "4\n",
      "3\n",
      "2\n",
      "1\n",
      "================\n",
      "apple\n",
      "banana\n",
      "mango\n"
     ]
    },
    {
     "data": {
      "text/plain": [
       "\u001b[36mfruits\u001b[39m: \u001b[32mList\u001b[39m[\u001b[32mString\u001b[39m] = \u001b[33mList\u001b[39m(\u001b[32m\"apple\"\u001b[39m, \u001b[32m\"banana\"\u001b[39m, \u001b[32m\"mango\"\u001b[39m)"
      ]
     },
     "execution_count": 15,
     "metadata": {},
     "output_type": "execute_result"
    }
   ],
   "source": [
    "// for loop\n",
    "for(i <- 1 to 5){\n",
    "    println(i)\n",
    "}\n",
    "println(\"==\"*8)\n",
    "// looping in reverse order\n",
    "for(i <- 5 until(0,-1)){\n",
    "    println(i)\n",
    "}\n",
    "\n",
    "println(\"==\"*8)\n",
    "val fruits = List(\"apple\", \"banana\", \"mango\")\n",
    "\n",
    "for (fruit <- fruits) {\n",
    "  println(fruit)\n",
    "}\n"
   ]
  },
  {
   "cell_type": "code",
   "execution_count": 10,
   "metadata": {},
   "outputs": [
    {
     "name": "stdout",
     "output_type": "stream",
     "text": [
      "5\n",
      "4\n",
      "3\n",
      "2\n",
      "1\n",
      "0\n"
     ]
    },
    {
     "data": {
      "text/plain": [
       "\u001b[36mi\u001b[39m: \u001b[32mInt\u001b[39m = \u001b[32m-1\u001b[39m"
      ]
     },
     "execution_count": 10,
     "metadata": {},
     "output_type": "execute_result"
    }
   ],
   "source": [
    "// while loop\n",
    "var i = 5\n",
    "while(i >=0){\n",
    "    println(i)\n",
    "    i -= 1\n",
    "}"
   ]
  },
  {
   "cell_type": "code",
   "execution_count": 12,
   "metadata": {},
   "outputs": [
    {
     "name": "stdout",
     "output_type": "stream",
     "text": [
      "Starting incrementing number until it is less than 15: 9\n",
      "Starting incrementing number until it is less than 15: 10\n",
      "Starting incrementing number until it is less than 15: 11\n",
      "Starting incrementing number until it is less than 15: 12\n",
      "Starting incrementing number until it is less than 15: 13\n",
      "Starting incrementing number until it is less than 15: 14\n"
     ]
    },
    {
     "data": {
      "text/plain": [
       "\u001b[36mnum\u001b[39m: \u001b[32mInt\u001b[39m = \u001b[32m15\u001b[39m"
      ]
     },
     "execution_count": 12,
     "metadata": {},
     "output_type": "execute_result"
    }
   ],
   "source": [
    "// do while loop\n",
    "var num = 9\n",
    "do{\n",
    "    println(\"Starting incrementing number until it is less than 15: \"+num)\n",
    "    num += 1\n",
    "}\n",
    "while(num < 15)"
   ]
  }
 ],
 "metadata": {
  "kernelspec": {
   "display_name": "Scala",
   "language": "scala",
   "name": "scala"
  },
  "language_info": {
   "codemirror_mode": "text/x-scala",
   "file_extension": ".sc",
   "mimetype": "text/x-scala",
   "name": "scala",
   "nbconvert_exporter": "script",
   "version": "2.13.14"
  }
 },
 "nbformat": 4,
 "nbformat_minor": 2
}
