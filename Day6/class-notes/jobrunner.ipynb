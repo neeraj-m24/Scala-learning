{
 "cells": [
  {
   "cell_type": "markdown",
   "metadata": {},
   "source": [
    "##### Job runner : create a class JobRunner and while creating oject String,Int,Codeblock execute the codeblock after seconds have passed"
   ]
  },
  {
   "cell_type": "code",
   "execution_count": 4,
   "metadata": {},
   "outputs": [
    {
     "data": {
      "text/plain": [
       "\u001b[32mimport \u001b[39m\u001b[36mscala.concurrent._\u001b[39m\n",
       "\u001b[32mimport \u001b[39m\u001b[36mscala.concurrent.duration._\u001b[39m\n",
       "\u001b[32mimport \u001b[39m\u001b[36mExecutionContext.Implicits.global\u001b[39m\n",
       "defined \u001b[32mfunction\u001b[39m \u001b[36msetTimeout\u001b[39m"
      ]
     },
     "execution_count": 4,
     "metadata": {},
     "output_type": "execute_result"
    }
   ],
   "source": [
    "import scala.concurrent._\n",
    "import scala.concurrent.duration._\n",
    "import ExecutionContext.Implicits.global\n",
    "\n",
    "def setTimeout(delay: Int, task: => Unit): Unit = {\n",
    "  Future {\n",
    "    Thread.sleep(delay)\n",
    "    task\n",
    "  }\n",
    "}\n",
    "\n",
    "// Usage:\n",
    "setTimeout(2, println(\"This will print after 2 seconds\"))"
   ]
  },
  {
   "cell_type": "code",
   "execution_count": 1,
   "metadata": {},
   "outputs": [
    {
     "data": {
      "text/plain": [
       "defined \u001b[32mclass\u001b[39m \u001b[36mJobRuner\u001b[39m\n",
       "defined \u001b[32mobject\u001b[39m \u001b[36mJobRunner\u001b[39m"
      ]
     },
     "execution_count": 1,
     "metadata": {},
     "output_type": "execute_result"
    }
   ],
   "source": [
    "class JobRuner(jobId:String,timeInSec:Int,logic: => Unit)\n",
    "\n",
    "object JobRunner{\n",
    "    def apply(jobId:String,timeInSec:Int)(logic: => Unit):Unit = {}\n",
    "}"
   ]
  }
 ],
 "metadata": {
  "kernelspec": {
   "display_name": "Scala",
   "language": "scala",
   "name": "scala"
  },
  "language_info": {
   "codemirror_mode": "text/x-scala",
   "file_extension": ".sc",
   "mimetype": "text/x-scala",
   "name": "scala",
   "nbconvert_exporter": "script",
   "version": "2.13.14"
  }
 },
 "nbformat": 4,
 "nbformat_minor": 2
}
