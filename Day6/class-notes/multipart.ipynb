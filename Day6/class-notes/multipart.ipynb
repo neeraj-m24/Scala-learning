{
 "cells": [
  {
   "cell_type": "markdown",
   "metadata": {},
   "source": [
    "* w/o lambda the code block will be executed immedietly, and if we want to call it by ourselves then need to use arrow.\n",
    "* code block will be executed upon multipart function call.\n",
    "* def multipart(name:String)(logic:Unit):Unit = {\n",
    "*    println(s\"Hi $name\")\n",
    "*    logic;\n",
    "* }\n",
    "* multipart(\"India\"){\n",
    "*    println(\"Doing some processing!\")\n",
    "*    }"
   ]
  },
  {
   "cell_type": "code",
   "execution_count": 11,
   "metadata": {},
   "outputs": [
    {
     "name": "stdout",
     "output_type": "stream",
     "text": [
      "Hi India\n",
      "Doing some processing!\n"
     ]
    },
    {
     "data": {
      "text/plain": [
       "defined \u001b[32mfunction\u001b[39m \u001b[36mmultipart\u001b[39m"
      ]
     },
     "execution_count": 11,
     "metadata": {},
     "output_type": "execute_result"
    }
   ],
   "source": [
    "// code block will only be executed when we call it.\n",
    "def multipart(name:String)(logic: => Unit):Unit = {\n",
    "    println(s\"Hi $name\")\n",
    "    logic;\n",
    "}\n",
    "\n",
    "multipart(\"India\"){\n",
    "    println(\"Doing some processing!\")\n",
    "    }"
   ]
  }
 ],
 "metadata": {
  "kernelspec": {
   "display_name": "Scala",
   "language": "scala",
   "name": "scala"
  },
  "language_info": {
   "codemirror_mode": "text/x-scala",
   "file_extension": ".sc",
   "mimetype": "text/x-scala",
   "name": "scala",
   "nbconvert_exporter": "script",
   "version": "2.13.14"
  }
 },
 "nbformat": 4,
 "nbformat_minor": 2
}
