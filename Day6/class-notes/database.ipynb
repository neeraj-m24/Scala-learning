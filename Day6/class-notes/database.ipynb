{
 "cells": [
  {
   "cell_type": "code",
   "execution_count": 1,
   "metadata": {},
   "outputs": [
    {
     "data": {
      "text/plain": [
       "\u001b[32mimport \u001b[39m\u001b[36mjava.sql.{Connection, DriverManager, ResultSet, Statement}\u001b[39m\n",
       "defined \u001b[32mobject\u001b[39m \u001b[36mDatabaseExample\u001b[39m"
      ]
     },
     "execution_count": 1,
     "metadata": {},
     "output_type": "execute_result"
    }
   ],
   "source": [
    "import java.sql.{Connection, DriverManager, ResultSet, Statement}\n",
    "\n",
    "object DatabaseExample {\n",
    "  def main(args: Array[String]): Unit = {\n",
    "    // Load the JDBC driver\n",
    "    Class.forName(\"com.mysql.cj.jdbc.Driver\")\n",
    "\n",
    "    // Establish a connection\n",
    "    val url = \"jdbc:mysql://scaladb.mysql.database.azure.com:3306/neeraj_milan\"\n",
    "    val username = \"mysqladmin\"\n",
    "    val password = \"Password@12345\"\n",
    "    val connection: Connection = DriverManager.getConnection(url, username, password)\n",
    "\n",
    "    try {\n",
    "      // Create a statement\n",
    "      val statement: Statement = connection.createStatement()\n",
    "\n",
    "      // Create a table\n",
    "      val createTableSQL =\n",
    "        \"\"\"\n",
    "          CREATE TABLE IF NOT EXISTS employees (\n",
    "           id INT AUTO_INCREMENT PRIMARY KEY,\n",
    "           name VARCHAR(100),\n",
    "           age INT\n",
    "          )\n",
    "          \"\"\"\n",
    "\n",
    "      statement.execute(createTableSQL)\n",
    "      println(\"Table created successfully.\")\n",
    "\n",
    "      // Insert some data\n",
    "      val insertSQL =\n",
    "        \"\"\"\n",
    "          INSERT INTO employees (name, age)\n",
    "           VALUES ('John Doe', 30),\n",
    "               ('Jane Smith', 25)\n",
    "          \"\"\"\n",
    "\n",
    "      statement.executeUpdate(insertSQL)\n",
    "      println(\"Data inserted successfully.\")\n",
    "\n",
    "      // Query the data\n",
    "      val query = \"SELECT * FROM employees\"\n",
    "      val resultSet: ResultSet = statement.executeQuery(query)\n",
    "\n",
    "      // Process the ResultSet\n",
    "      println(\"Employees:\")\n",
    "      while (resultSet.next()) {\n",
    "        val id = resultSet.getInt(\"id\")\n",
    "        val name = resultSet.getString(\"name\")\n",
    "        val age = resultSet.getInt(\"age\")\n",
    "        println(s\"ID: $id, Name: $name, Age: $age\")\n",
    "      }\n",
    "    } catch {\n",
    "      case e: Exception => e.printStackTrace()\n",
    "    } finally {\n",
    "      // Close Statement and Connection\n",
    "      connection.close()\n",
    "    }\n",
    "  }\n",
    "}"
   ]
  }
 ],
 "metadata": {
  "kernelspec": {
   "display_name": "Scala",
   "language": "scala",
   "name": "scala"
  },
  "language_info": {
   "codemirror_mode": "text/x-scala",
   "file_extension": ".sc",
   "mimetype": "text/x-scala",
   "name": "scala",
   "nbconvert_exporter": "script",
   "version": "2.13.14"
  }
 },
 "nbformat": 4,
 "nbformat_minor": 2
}
