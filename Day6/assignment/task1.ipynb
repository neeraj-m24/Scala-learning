{
 "cells": [
  {
   "cell_type": "markdown",
   "metadata": {},
   "source": [
    "##### Q1"
   ]
  },
  {
   "cell_type": "code",
   "execution_count": 3,
   "metadata": {},
   "outputs": [
    {
     "name": "stdout",
     "output_type": "stream",
     "text": [
      "Ninja mission has started!\n",
      "Mission comprimized!\n"
     ]
    },
    {
     "data": {
      "text/plain": [
       "defined \u001b[32mclass\u001b[39m \u001b[36mJobRunner\u001b[39m\n",
       "defined \u001b[32mobject\u001b[39m \u001b[36mJobRunner\u001b[39m\n",
       "\u001b[36mninjaMission\u001b[39m: \u001b[32mJobRunner\u001b[39m = ammonite.$sess.cmd3$Helper$JobRunner@1e371426"
      ]
     },
     "execution_count": 3,
     "metadata": {},
     "output_type": "execute_result"
    }
   ],
   "source": [
    "class JobRunner(name:String)\n",
    "\n",
    "object JobRunner{\n",
    "    def apply(name:String, timeInSecond:Int)(codeBlock: => Unit): JobRunner = {\n",
    "    println(\"Ninja mission has started!\")\n",
    "    Thread.sleep(timeInSecond*1000)\n",
    "    codeBlock\n",
    "    new JobRunner(name)\n",
    "    }\n",
    "\n",
    "}\n",
    "\n",
    "val ninjaMission:JobRunner = JobRunner(\"Ninja Mission: A rank difficulty!\",2){\n",
    "    println(\"Mission comprimized!\")\n",
    "}"
   ]
  }
 ],
 "metadata": {
  "kernelspec": {
   "display_name": "Scala",
   "language": "scala",
   "name": "scala"
  },
  "language_info": {
   "codemirror_mode": "text/x-scala",
   "file_extension": ".sc",
   "mimetype": "text/x-scala",
   "name": "scala",
   "nbconvert_exporter": "script",
   "version": "2.13.14"
  }
 },
 "nbformat": 4,
 "nbformat_minor": 2
}
