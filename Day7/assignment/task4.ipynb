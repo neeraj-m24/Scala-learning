{
 "cells": [
  {
   "cell_type": "markdown",
   "metadata": {},
   "source": [
    "## 1. Create a Topic with 3 Partitions and Replication Factor 2\n",
    "\n",
    "<img src=\"./images/Screenshot 2024-11-10 at 4.10.44 PM.png\">"
   ]
  },
  {
   "cell_type": "markdown",
   "metadata": {},
   "source": [
    "## 2. Create multiple producers using CLI\n",
    "\n",
    "\n",
    "<img src=\"./images/s1.png\">\n",
    "<img src=\"./images/s2.png\">\n",
    "<img src=\"./images/s3.png\">"
   ]
  },
  {
   "cell_type": "markdown",
   "metadata": {},
   "source": [
    "### 3. Create Two Consumer groups\n",
    "   1. multiple consumers in the group\n",
    "   <img src=\"./images/s4.png\"> \n",
    "   <img src=\"./images/s5.png\">\n",
    "\n",
    "   2. only one consumer in the group\n",
    "   <img src=\"./images/s5.png\">  "
   ]
  },
  {
   "cell_type": "markdown",
   "metadata": {},
   "source": [
    "## 4. 4.1 How the consumers consume it Messages go to random partitions when key is not mentioned in the message, consumers assigned to the partitions in a particular consumer group consume it Since consumer 3 is the only one consumer in the consumer group all partitions get assigned to it\n",
    "\n",
    "<img src=\"./images/s7.png\">\n",
    "<img src=\"./images/s8.png\">\n",
    "<img src=\"./images/s9.png\">\n",
    "<img src=\"./images/10.png\">\n",
    "<img src=\"./images/s11.png\">\n",
    "<img src=\"./images/s12.png\">"
   ]
  },
  {
   "cell_type": "markdown",
   "metadata": {},
   "source": [
    "## 4.2 How partitions are alloted to consumers Partitions assigned to consumers evenly, since in group 2 there is only 1 consumer, all partitions are assigned to it\n",
    "<img src=\"./images/s13.png\">\n"
   ]
  },
  {
   "cell_type": "markdown",
   "metadata": {},
   "source": [
    "## 4.3 How reallocation happens if a consumer is added Partitions get redistributed evenly within the 3 consumers in the consumer group, each reading from 1 partition\n",
    "<img src=\"./images/s14.png\">"
   ]
  },
  {
   "cell_type": "markdown",
   "metadata": {},
   "source": [
    "## 4.4 How reallocation happens if a consumer is removed Partitions are redistributed evenly, in this case all partitions get mapped to consumer remaining\n",
    "\n",
    "<img src=\"./images/s15.png\">"
   ]
  }
 ],
 "metadata": {
  "language_info": {
   "name": "python"
  }
 },
 "nbformat": 4,
 "nbformat_minor": 2
}
