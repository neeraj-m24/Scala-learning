{
 "cells": [
  {
   "cell_type": "markdown",
   "metadata": {},
   "source": [
    "#### 1. Bubble sort"
   ]
  },
  {
   "cell_type": "code",
   "execution_count": 1,
   "metadata": {},
   "outputs": [
    {
     "name": "stdout",
     "output_type": "stream",
     "text": [
      "11 ->12 ->22 ->25 ->34 ->64 ->90 ->"
     ]
    },
    {
     "data": {
      "text/plain": [
       "\u001b[36marr\u001b[39m: \u001b[32mArray\u001b[39m[\u001b[32mInt\u001b[39m] = \u001b[33mArray\u001b[39m(\u001b[32m11\u001b[39m, \u001b[32m12\u001b[39m, \u001b[32m22\u001b[39m, \u001b[32m25\u001b[39m, \u001b[32m34\u001b[39m, \u001b[32m64\u001b[39m, \u001b[32m90\u001b[39m)\n",
       "defined \u001b[32mfunction\u001b[39m \u001b[36mbubbleSort\u001b[39m"
      ]
     },
     "execution_count": 1,
     "metadata": {},
     "output_type": "execute_result"
    }
   ],
   "source": [
    "val arr:Array[Int] = Array(64, 34, 25, 12, 22, 11, 90)\n",
    "\n",
    "def bubbleSort(arr:Array[Int]):Unit = {\n",
    "    val n:Int = arr.length\n",
    "    var i:Int=0\n",
    "    var j:Int =0\n",
    "    for(i <- 0 until n){\n",
    "        var swapped:Boolean = false\n",
    "        for(j <-0 until n-i-1){\n",
    "            if(arr(j)>arr(j+1)){\n",
    "                val temp:Int = arr(j)\n",
    "                arr(j) = arr(j+1)\n",
    "                arr(j+1) = temp\n",
    "                swapped = true\n",
    "            }\n",
    "        }\n",
    "    }\n",
    "}\n",
    "\n",
    "bubbleSort(arr)\n",
    "for(el <- arr){\n",
    "    print(s\"$el ->\")\n",
    "}\n"
   ]
  },
  {
   "cell_type": "markdown",
   "metadata": {},
   "source": [
    "#### 2. Insertion Sort\n"
   ]
  },
  {
   "cell_type": "code",
   "execution_count": 2,
   "metadata": {},
   "outputs": [
    {
     "name": "stdout",
     "output_type": "stream",
     "text": [
      "11 ->12 ->22 ->25 ->34 ->64 ->90 ->"
     ]
    },
    {
     "data": {
      "text/plain": [
       "defined \u001b[32mfunction\u001b[39m \u001b[36minsertionSort\u001b[39m\n",
       "\u001b[36marr2\u001b[39m: \u001b[32mArray\u001b[39m[\u001b[32mInt\u001b[39m] = \u001b[33mArray\u001b[39m(\u001b[32m11\u001b[39m, \u001b[32m12\u001b[39m, \u001b[32m22\u001b[39m, \u001b[32m25\u001b[39m, \u001b[32m34\u001b[39m, \u001b[32m64\u001b[39m, \u001b[32m90\u001b[39m)"
      ]
     },
     "execution_count": 2,
     "metadata": {},
     "output_type": "execute_result"
    }
   ],
   "source": [
    "def insertionSort(arr:Array[Int]):Unit = {\n",
    "    val n:Int = arr.length\n",
    "    \n",
    "    for(i <- 0 until n){\n",
    "        val key = arr(i)\n",
    "        var j = i-1\n",
    "        while(j>=0 && key<arr(j)){\n",
    "            arr(j+1) = arr(j)\n",
    "            j -= 1\n",
    "        }\n",
    "        arr(j+1) = key\n",
    "    }\n",
    "}\n",
    "\n",
    "val arr2:Array[Int] = Array(64, 34, 25, 12, 22, 11, 90)\n",
    "insertionSort(arr2)\n",
    "for(el <- arr2){\n",
    "    print(s\"$el ->\")\n",
    "}"
   ]
  },
  {
   "cell_type": "markdown",
   "metadata": {},
   "source": [
    "#### 3. Quick Sort\n"
   ]
  },
  {
   "cell_type": "code",
   "execution_count": 3,
   "metadata": {},
   "outputs": [
    {
     "name": "stdout",
     "output_type": "stream",
     "text": [
      "11 ->12 ->22 ->25 ->34 ->64 ->90 ->"
     ]
    },
    {
     "data": {
      "text/plain": [
       "defined \u001b[32mfunction\u001b[39m \u001b[36mpartition\u001b[39m\n",
       "defined \u001b[32mfunction\u001b[39m \u001b[36mswap\u001b[39m\n",
       "defined \u001b[32mfunction\u001b[39m \u001b[36mquickSort\u001b[39m\n",
       "\u001b[36marr3\u001b[39m: \u001b[32mArray\u001b[39m[\u001b[32mInt\u001b[39m] = \u001b[33mArray\u001b[39m(\u001b[32m11\u001b[39m, \u001b[32m12\u001b[39m, \u001b[32m22\u001b[39m, \u001b[32m25\u001b[39m, \u001b[32m34\u001b[39m, \u001b[32m64\u001b[39m, \u001b[32m90\u001b[39m)\n",
       "\u001b[36mn\u001b[39m: \u001b[32mInt\u001b[39m = \u001b[32m7\u001b[39m"
      ]
     },
     "execution_count": 3,
     "metadata": {},
     "output_type": "execute_result"
    }
   ],
   "source": [
    "def partition(arr:Array[Int],low:Int,high:Int):Int = {\n",
    "    // choose pivot\n",
    "    val pivot = arr(high)\n",
    "    // Index of smaller element and indicates \n",
    "    // the right position of pivot found so far\n",
    "    var i = low - 1\n",
    "    \n",
    "    //  Traverse arr[low..high] and move all smaller\n",
    "    //  elements to the left side. Elements from low to \n",
    "    //  i are smaller after every iteration\n",
    "    for(j <- low until high){\n",
    "        if(arr(j) < pivot){\n",
    "            i += 1\n",
    "            swap(arr,i,j)\n",
    "        }\n",
    "    }\n",
    "    swap(arr,i+1,high)\n",
    "    return i+1\n",
    "\n",
    "}\n",
    "\n",
    "def swap(arr:Array[Int],i:Int,j:Int):Unit = {\n",
    "    val temp = arr(i)\n",
    "    arr(i) = arr(j)\n",
    "    arr(j) = temp\n",
    "}\n",
    "\n",
    "def quickSort(arr:Array[Int],low:Int,high:Int):Unit = {\n",
    "    if(low<high){\n",
    "        val partitionIdx = partition(arr,low,high)\n",
    "\n",
    "        quickSort(arr,low,partitionIdx-1)\n",
    "        quickSort(arr,partitionIdx+1,high)\n",
    "    }\n",
    "}\n",
    "\n",
    "val arr3:Array[Int] = Array(64, 34, 25, 12, 22, 11, 90)\n",
    "val n:Int = arr3.length\n",
    "quickSort(arr3,0,n-1)\n",
    "for(el <- arr3){\n",
    "    print(s\"$el ->\")\n",
    "}"
   ]
  },
  {
   "cell_type": "markdown",
   "metadata": {},
   "source": [
    "#### 4.Heap Sort\n"
   ]
  },
  {
   "cell_type": "code",
   "execution_count": 33,
   "metadata": {},
   "outputs": [
    {
     "name": "stdout",
     "output_type": "stream",
     "text": [
      "11 ->12 ->22 ->25 ->34 ->64 ->90 ->"
     ]
    },
    {
     "data": {
      "text/plain": [
       "defined \u001b[32mfunction\u001b[39m \u001b[36mheapSort\u001b[39m\n",
       "defined \u001b[32mfunction\u001b[39m \u001b[36mheapify\u001b[39m\n",
       "\u001b[36marr4\u001b[39m: \u001b[32mArray\u001b[39m[\u001b[32mInt\u001b[39m] = \u001b[33mArray\u001b[39m(\u001b[32m11\u001b[39m, \u001b[32m12\u001b[39m, \u001b[32m22\u001b[39m, \u001b[32m25\u001b[39m, \u001b[32m34\u001b[39m, \u001b[32m64\u001b[39m, \u001b[32m90\u001b[39m)"
      ]
     },
     "execution_count": 33,
     "metadata": {},
     "output_type": "execute_result"
    }
   ],
   "source": [
    "def heapSort(arr:Array[Int]):Unit = {\n",
    "    val n = arr.length\n",
    "    // Build heap (rearrange array)\n",
    "    for(i <- ((n/2)-1) until(-1,-1)){\n",
    "        heapify(arr,n,i)\n",
    "    }\n",
    "\n",
    "    // One by one extract an element from heap\n",
    "    for(i <- n-1 until(0,-1)){\n",
    "        swap(arr,0,i)\n",
    "        heapify(arr,i,0)\n",
    "    }\n",
    "\n",
    "}\n",
    "\n",
    "def heapify(arr:Array[Int],n:Int,i:Int):Unit = {\n",
    "    var largest = i\n",
    "    // left index = 2*i + 1\n",
    "    var l = 2 * i + 1 \n",
    "    \n",
    "    // right index = 2*i + 2\n",
    "    var r = 2 * i + 2  \n",
    "\n",
    "    // If left child is larger than root\n",
    "    if (l < n && arr(l) > arr(largest)){\n",
    "        largest = l}\n",
    "\n",
    "    // If right child is larger than largest so far\n",
    "    if (r < n && arr(r) > arr(largest)){\n",
    "        largest = r}\n",
    "\n",
    "    // If largest is not root\n",
    "    if (largest != i){\n",
    "        swap(arr,i,largest)\n",
    "\n",
    "        // Recursively heapify the affected sub-tree\n",
    "        heapify(arr, n, largest)}\n",
    "}\n",
    "\n",
    "val arr4:Array[Int] = Array(64, 34, 25, 12, 22, 11, 90)\n",
    "heapSort(arr4)\n",
    "for(el <- arr4){\n",
    "    print(s\"$el ->\")\n",
    "}"
   ]
  },
  {
   "cell_type": "markdown",
   "metadata": {},
   "source": [
    "#### 5. Selection Sort"
   ]
  },
  {
   "cell_type": "code",
   "execution_count": 34,
   "metadata": {},
   "outputs": [
    {
     "name": "stdout",
     "output_type": "stream",
     "text": [
      "11 ->12 ->22 ->25 ->34 ->64 ->90 ->"
     ]
    },
    {
     "data": {
      "text/plain": [
       "defined \u001b[32mfunction\u001b[39m \u001b[36mselectionSort\u001b[39m\n",
       "\u001b[36marr5\u001b[39m: \u001b[32mArray\u001b[39m[\u001b[32mInt\u001b[39m] = \u001b[33mArray\u001b[39m(\u001b[32m11\u001b[39m, \u001b[32m12\u001b[39m, \u001b[32m22\u001b[39m, \u001b[32m25\u001b[39m, \u001b[32m34\u001b[39m, \u001b[32m64\u001b[39m, \u001b[32m90\u001b[39m)"
      ]
     },
     "execution_count": 34,
     "metadata": {},
     "output_type": "execute_result"
    }
   ],
   "source": [
    "def selectionSort(arr:Array[Int]):Unit = {\n",
    "    val n = arr.length\n",
    "    for(i <- 0 until n-1){\n",
    "        // Assume the current position holds\n",
    "        //  the minimum element\n",
    "        var minIdx:Int = i\n",
    "\n",
    "        // terate through the unsorted portion\n",
    "        // to find the actual minimum\n",
    "        for(j <- i+1 until n){\n",
    "            if(arr(j) < arr(minIdx)){\n",
    "                // Update min_idx if a smaller element is found\n",
    "                minIdx = j\n",
    "            }\n",
    "        }\n",
    "        swap(arr,i,minIdx)\n",
    "    }\n",
    "}\n",
    "val arr5:Array[Int] = Array(64, 34, 25, 12, 22, 11, 90)\n",
    "selectionSort(arr5)\n",
    "for(el <- arr5){\n",
    "    print(s\"$el ->\")\n",
    "}"
   ]
  }
 ],
 "metadata": {
  "kernelspec": {
   "display_name": "Scala",
   "language": "scala",
   "name": "scala"
  },
  "language_info": {
   "codemirror_mode": "text/x-scala",
   "file_extension": ".sc",
   "mimetype": "text/x-scala",
   "name": "scala",
   "nbconvert_exporter": "script",
   "version": "2.13.14"
  }
 },
 "nbformat": 4,
 "nbformat_minor": 2
}
