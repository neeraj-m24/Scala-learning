{
 "cells": [
  {
   "cell_type": "code",
   "execution_count": 4,
   "metadata": {},
   "outputs": [
    {
     "data": {
      "text/plain": [
       "defined \u001b[32mfunction\u001b[39m \u001b[36mgreet\u001b[39m\n",
       "\u001b[36mres4_1\u001b[39m: \u001b[32mString\u001b[39m = \u001b[32m\"Hi Itachi\"\u001b[39m"
      ]
     },
     "execution_count": 4,
     "metadata": {},
     "output_type": "execute_result"
    }
   ],
   "source": [
    "def greet(name:String):String = {\n",
    "    return \"Hi \"+name\n",
    "}\n",
    "greet(\"Itachi\")"
   ]
  },
  {
   "cell_type": "code",
   "execution_count": 6,
   "metadata": {},
   "outputs": [
    {
     "data": {
      "text/plain": [
       "defined \u001b[32mfunction\u001b[39m \u001b[36mgreet\u001b[39m\n",
       "\u001b[36mres6_1\u001b[39m: \u001b[32mString\u001b[39m = \u001b[32m\"Hi Sweden\"\u001b[39m"
      ]
     },
     "execution_count": 6,
     "metadata": {},
     "output_type": "execute_result"
    }
   ],
   "source": [
    "def greet(name:String):String = {\n",
    "    \"Hi \"+name\n",
    "}\n",
    "\n",
    "greet(\"Sweden\")"
   ]
  },
  {
   "cell_type": "code",
   "execution_count": 8,
   "metadata": {},
   "outputs": [
    {
     "name": "stdout",
     "output_type": "stream",
     "text": [
      "Processed !!! Sweden\n"
     ]
    },
    {
     "data": {
      "text/plain": [
       "defined \u001b[32mfunction\u001b[39m \u001b[36mgreet\u001b[39m"
      ]
     },
     "execution_count": 8,
     "metadata": {},
     "output_type": "execute_result"
    }
   ],
   "source": [
    "def greet(name:String):String = \"Processed !!! \"+name\n",
    "\n",
    "println(greet(\"Sweden\"))"
   ]
  },
  {
   "cell_type": "markdown",
   "metadata": {},
   "source": [
    "### Section 2"
   ]
  },
  {
   "cell_type": "code",
   "execution_count": 9,
   "metadata": {},
   "outputs": [
    {
     "name": "stdout",
     "output_type": "stream",
     "text": [
      "30"
     ]
    },
    {
     "data": {
      "text/plain": [
       "defined \u001b[32mfunction\u001b[39m \u001b[36msum\u001b[39m"
      ]
     },
     "execution_count": 9,
     "metadata": {},
     "output_type": "execute_result"
    }
   ],
   "source": [
    "def sum(a:Int,b:Int):Int = a+b\n",
    "print(sum(10,20))\n",
    "\n",
    "// val add:(Int,Int) => Int = "
   ]
  },
  {
   "cell_type": "markdown",
   "metadata": {},
   "source": [
    "### arrow/lambda representation"
   ]
  },
  {
   "cell_type": "code",
   "execution_count": 10,
   "metadata": {},
   "outputs": [
    {
     "name": "stdout",
     "output_type": "stream",
     "text": [
      "6\n"
     ]
    },
    {
     "data": {
      "text/plain": [
       "\u001b[36msum\u001b[39m: (\u001b[32mInt\u001b[39m, \u001b[32mInt\u001b[39m) => \u001b[32mInt\u001b[39m = ammonite.$sess.cmd10$Helper$$Lambda/0x000000d0019ee4f8@18bf2f4e"
      ]
     },
     "execution_count": 10,
     "metadata": {},
     "output_type": "execute_result"
    }
   ],
   "source": [
    "val sum = (a:Int, b:Int) => a+b\n",
    "println(sum(2,4))"
   ]
  },
  {
   "cell_type": "code",
   "execution_count": 12,
   "metadata": {},
   "outputs": [
    {
     "name": "stdout",
     "output_type": "stream",
     "text": [
      "90"
     ]
    },
    {
     "data": {
      "text/plain": [
       "\u001b[36msum\u001b[39m: (\u001b[32mInt\u001b[39m, \u001b[32mInt\u001b[39m) => \u001b[32mInt\u001b[39m = ammonite.$sess.cmd12$Helper$$Lambda/0x000000d001a105f8@5736bcc0"
      ]
     },
     "execution_count": 12,
     "metadata": {},
     "output_type": "execute_result"
    }
   ],
   "source": [
    "val sum:(Int,Int) => Int = (a:Int,b:Int) => a+b\n",
    "print(sum(30,60))"
   ]
  },
  {
   "cell_type": "code",
   "execution_count": 11,
   "metadata": {},
   "outputs": [
    {
     "name": "stdout",
     "output_type": "stream",
     "text": [
      "729\n"
     ]
    },
    {
     "data": {
      "text/plain": [
       "\u001b[36mcube\u001b[39m: \u001b[32mInt\u001b[39m => \u001b[32mInt\u001b[39m = ammonite.$sess.cmd11$Helper$$Lambda/0x000000d0019ef628@3bf60284"
      ]
     },
     "execution_count": 11,
     "metadata": {},
     "output_type": "execute_result"
    }
   ],
   "source": [
    "val cube:Int =>Int = (x) => x*x*x\n",
    "println(cube(9))\n"
   ]
  },
  {
   "cell_type": "markdown",
   "metadata": {},
   "source": [
    "## Section 3"
   ]
  },
  {
   "cell_type": "markdown",
   "metadata": {},
   "source": [
    "### 1. Storing function in a variable"
   ]
  },
  {
   "cell_type": "markdown",
   "metadata": {},
   "source": [
    "### implicit return type: need to use \"_\" when we don't specify the return type for variable holding the function. eg. return type for target is autmatically inferred.\n",
    "* TODO: recheck"
   ]
  },
  {
   "cell_type": "code",
   "execution_count": 17,
   "metadata": {},
   "outputs": [
    {
     "name": "stdout",
     "output_type": "stream",
     "text": [
      "Process Desktop Application x23 has started!"
     ]
    },
    {
     "data": {
      "text/plain": [
       "defined \u001b[32mfunction\u001b[39m \u001b[36mprocess\u001b[39m\n",
       "\u001b[36mtarget\u001b[39m: \u001b[32mString\u001b[39m => \u001b[32mString\u001b[39m = ammonite.$sess.cmd17$Helper$$Lambda/0x000000d001a401f8@5b18b202"
      ]
     },
     "execution_count": 17,
     "metadata": {},
     "output_type": "execute_result"
    }
   ],
   "source": [
    "def process(x:String):String = s\"Process $x has started!\"\n",
    "val target = process _\n",
    "print(target(\"Desktop Application x23\"))"
   ]
  },
  {
   "cell_type": "markdown",
   "metadata": {},
   "source": [
    "### explicit return type: no need to use \"_\" when we specified the return type for variable holding the function.\n",
    "* TODO: recheck"
   ]
  },
  {
   "cell_type": "code",
   "execution_count": 16,
   "metadata": {},
   "outputs": [
    {
     "name": "stdout",
     "output_type": "stream",
     "text": [
      "Process DBService has started!\n"
     ]
    },
    {
     "data": {
      "text/plain": [
       "\u001b[36mcopied\u001b[39m: \u001b[32mString\u001b[39m => \u001b[32mString\u001b[39m = ammonite.$sess.cmd16$Helper$$Lambda/0x000000d001a13240@2536e6cd"
      ]
     },
     "execution_count": 16,
     "metadata": {},
     "output_type": "execute_result"
    }
   ],
   "source": [
    "val copied:String => String = process\n",
    "println(copied(\"DBService\"))"
   ]
  },
  {
   "cell_type": "markdown",
   "metadata": {},
   "source": [
    "### to get the return type of variable/object use .getClass eg. below code has return type as lambda."
   ]
  },
  {
   "cell_type": "code",
   "execution_count": 19,
   "metadata": {},
   "outputs": [
    {
     "name": "stdout",
     "output_type": "stream",
     "text": [
      "class ammonite.$sess.cmd17$Helper$$Lambda/0x000000d001a401f8\n",
      "class ammonite.$sess.cmd17$Helper$$Lambda/0x000000d001a401f8\n"
     ]
    }
   ],
   "source": [
    "println(target.getClass)\n",
    "println(target.getClass)"
   ]
  },
  {
   "cell_type": "markdown",
   "metadata": {},
   "source": [
    "### 2. passing function as parameter"
   ]
  },
  {
   "cell_type": "code",
   "execution_count": 22,
   "metadata": {},
   "outputs": [
    {
     "data": {
      "text/plain": [
       "defined \u001b[32mfunction\u001b[39m \u001b[36mcallMeIwillSendYouThatManyTimes\u001b[39m"
      ]
     },
     "execution_count": 22,
     "metadata": {},
     "output_type": "execute_result"
    }
   ],
   "source": [
    "def callMeIwillSendYouThatManyTimes(times:Int,method:(String) => Unit) = {\n",
    "    for(i <- 1 to times)\n",
    "        {\n",
    "            println(\"In the original function call\")\n",
    "            method(\"India\")\n",
    "            println(\"Back to the original call\")\n",
    "        \n",
    "        }\n",
    "    println(\"done\")\n",
    "\n",
    "}\n",
    "\n"
   ]
  },
  {
   "cell_type": "markdown",
   "metadata": {},
   "source": [
    "#### passing normal function as parameter"
   ]
  },
  {
   "cell_type": "code",
   "execution_count": 24,
   "metadata": {},
   "outputs": [
    {
     "name": "stdout",
     "output_type": "stream",
     "text": [
      "In the original function call\n",
      "User is processing India\n",
      "Back to the original call\n",
      "In the original function call\n",
      "User is processing India\n",
      "Back to the original call\n",
      "done\n"
     ]
    },
    {
     "data": {
      "text/plain": [
       "defined \u001b[32mfunction\u001b[39m \u001b[36mgetTheData\u001b[39m"
      ]
     },
     "execution_count": 24,
     "metadata": {},
     "output_type": "execute_result"
    }
   ],
   "source": [
    "def getTheData(data:String):Unit = {\n",
    "    println(s\"User is processing $data\")\n",
    "}\n",
    "\n",
    "callMeIwillSendYouThatManyTimes(2,getTheData)"
   ]
  },
  {
   "cell_type": "markdown",
   "metadata": {},
   "source": [
    "#### passing arrow function as parameter"
   ]
  },
  {
   "cell_type": "code",
   "execution_count": 27,
   "metadata": {},
   "outputs": [
    {
     "name": "stdout",
     "output_type": "stream",
     "text": [
      "In the original function call\n",
      "lambda processing India\n",
      "Back to the original call\n",
      "In the original function call\n",
      "lambda processing India\n",
      "Back to the original call\n",
      "done\n"
     ]
    }
   ],
   "source": [
    "callMeIwillSendYouThatManyTimes(2,(data:String) => println(s\"lambda processing $data\"))"
   ]
  },
  {
   "cell_type": "markdown",
   "metadata": {},
   "source": [
    "## Section 4"
   ]
  },
  {
   "cell_type": "code",
   "execution_count": 37,
   "metadata": {},
   "outputs": [
    {
     "name": "stdout",
     "output_type": "stream",
     "text": [
      "453 ->465 ->645 ->6 ->909 ->\n",
      "453 ->464 ->465 ->"
     ]
    },
    {
     "data": {
      "text/plain": [
       "defined \u001b[32mfunction\u001b[39m \u001b[36mfilterIt\u001b[39m\n",
       "\u001b[36mnumarray\u001b[39m: \u001b[32mArray\u001b[39m[\u001b[32mInt\u001b[39m] = \u001b[33mArray\u001b[39m(\n",
       "  \u001b[32m40\u001b[39m,\n",
       "  \u001b[32m641\u001b[39m,\n",
       "  \u001b[32m6452\u001b[39m,\n",
       "  \u001b[32m453\u001b[39m,\n",
       "  \u001b[32m4546\u001b[39m,\n",
       "  \u001b[32m464\u001b[39m,\n",
       "  \u001b[32m465\u001b[39m,\n",
       "  \u001b[32m645\u001b[39m,\n",
       "  \u001b[32m6\u001b[39m,\n",
       "  \u001b[32m7765\u001b[39m,\n",
       "  \u001b[32m909\u001b[39m\n",
       ")\n",
       "\u001b[36mfilteredArr\u001b[39m: \u001b[32mArray\u001b[39m[\u001b[32mInt\u001b[39m] = \u001b[33mArray\u001b[39m(\u001b[32m453\u001b[39m, \u001b[32m465\u001b[39m, \u001b[32m645\u001b[39m, \u001b[32m6\u001b[39m, \u001b[32m909\u001b[39m)\n",
       "\u001b[36mfilteredArr2\u001b[39m: \u001b[32mArray\u001b[39m[\u001b[32mInt\u001b[39m] = \u001b[33mArray\u001b[39m(\u001b[32m453\u001b[39m, \u001b[32m464\u001b[39m, \u001b[32m465\u001b[39m)"
      ]
     },
     "execution_count": 37,
     "metadata": {},
     "output_type": "execute_result"
    }
   ],
   "source": [
    "def filterIt(elements:Array[Int], logic:Int => Boolean): Array[Int] = {\n",
    "    var a:Int = 0\n",
    "    var count:Int = 0\n",
    "    for(data <- elements){\n",
    "        if(logic(data)){\n",
    "            count += 1\n",
    "        }\n",
    "    }\n",
    "    val arr = Array.fill(count)(0)\n",
    "    for(data <- elements){\n",
    "        if(logic(data)){\n",
    "            arr(a) = data\n",
    "            a += 1\n",
    "        }\n",
    "    }\n",
    "    return arr\n",
    "}\n",
    "\n",
    "val numarray:Array[Int] = Array(40,641,6452,453,4546,464,465,645,6,7765,909)\n",
    "val filteredArr = filterIt(numarray, (x) => x%3 == 0)\n",
    "val filteredArr2 = filterIt(numarray, (x) => x>=100 && x<=500)\n",
    "// println(\"Filtered arr: \"+filteredArr)\n",
    "// println(\"Filtered arr 2: \"+filteredArr2)\n",
    "for(el <- filteredArr){\n",
    "    print(s\"$el ->\")\n",
    "}\n",
    "print(\"\\n\")\n",
    "for(el <- filteredArr2){\n",
    "    print(s\"$el ->\")\n",
    "}"
   ]
  },
  {
   "cell_type": "markdown",
   "metadata": {},
   "source": [
    "### Tasks\n",
    "\n",
    "## Implement functions that array as parameter and does following on the original passed array\n",
    "1. Bubble sort: Unit\n",
    "2. Insertion sort: Unit\n",
    "3. Quick sort: Unit\n",
    "4. Heap sort: Unit\n",
    "5. Selection sort: Unit"
   ]
  }
 ],
 "metadata": {
  "kernelspec": {
   "display_name": "Scala",
   "language": "scala",
   "name": "scala"
  },
  "language_info": {
   "codemirror_mode": "text/x-scala",
   "file_extension": ".sc",
   "mimetype": "text/x-scala",
   "name": "scala",
   "nbconvert_exporter": "script",
   "version": "2.13.14"
  }
 },
 "nbformat": 4,
 "nbformat_minor": 2
}
