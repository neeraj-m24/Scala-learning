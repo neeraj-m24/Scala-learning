{
 "cells": [
  {
   "cell_type": "markdown",
   "metadata": {},
   "source": []
  },
  {
   "cell_type": "code",
   "execution_count": 10,
   "metadata": {},
   "outputs": [
    {
     "name": "stdout",
     "output_type": "stream",
     "text": [
      "Int is converted to string: 45\n",
      "Amount(500.52)\n"
     ]
    },
    {
     "data": {
      "text/plain": [
       "\u001b[32mimport \u001b[39m\u001b[36mscala.language.implicitConversions\u001b[39m\n",
       "defined \u001b[32mfunction\u001b[39m \u001b[36mintToString\u001b[39m\n",
       "defined \u001b[32mfunction\u001b[39m \u001b[36mtakeAmount\u001b[39m\n",
       "defined \u001b[32mclass\u001b[39m \u001b[36mAmount\u001b[39m\n",
       "\u001b[36mnum1\u001b[39m: \u001b[32mString\u001b[39m = \u001b[32m\"45\"\u001b[39m\n",
       "\u001b[36mmoney\u001b[39m: \u001b[32mAmount\u001b[39m = \u001b[33mAmount\u001b[39m(amt = \u001b[32m500.52\u001b[39m)"
      ]
     },
     "execution_count": 10,
     "metadata": {},
     "output_type": "execute_result"
    }
   ],
   "source": [
    "import scala.language.implicitConversions\n",
    "\n",
    "implicit def intToString(x:Int):String = x.toString\n",
    "\n",
    "implicit def takeAmount(x:Double):Amount = new Amount(x)\n",
    "\n",
    "case class Amount(amt:Double)\n",
    "\n",
    "val num1:String = 45\n",
    "val money:Amount = 500.52\n",
    "println(\"Int is converted to string: \"+num1)\n",
    "println(money)"
   ]
  }
 ],
 "metadata": {
  "kernelspec": {
   "display_name": "Scala",
   "language": "scala",
   "name": "scala"
  },
  "language_info": {
   "codemirror_mode": "text/x-scala",
   "file_extension": ".sc",
   "mimetype": "text/x-scala",
   "name": "scala",
   "nbconvert_exporter": "script",
   "version": "2.13.14"
  }
 },
 "nbformat": 4,
 "nbformat_minor": 2
}
