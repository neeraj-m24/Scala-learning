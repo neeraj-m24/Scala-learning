{
 "cells": [
  {
   "cell_type": "markdown",
   "metadata": {},
   "source": [
    "#### Store the above data in a csv\n",
    "\n",
    "1. Read the text file (csv) \n",
    "2. create the case Class to Represent the entity\n",
    "3. add all the records in to List\n",
    "4. Perform filter operations based on salary and departments\n",
    "5. perform map operations to produce formatted report\n",
    "6. perform reduce operation to find total Salary, average Salary, number of employees department wise"
   ]
  }
 ],
 "metadata": {
  "language_info": {
   "name": "python"
  }
 },
 "nbformat": 4,
 "nbformat_minor": 2
}
