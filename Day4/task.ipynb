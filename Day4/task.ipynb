{
 "cells": [
  {
   "cell_type": "markdown",
   "metadata": {},
   "source": [
    "#### Store the above data in a csv\n",
    "\n",
    "1. Read the text file (csv) \n",
    "2. create the case Class to Represent the entity\n",
    "3. add all the records in to List\n",
    "4. Perform filter operations based on salary and departments\n",
    "5. perform map operations to produce formatted report\n",
    "6. perform reduce operation to find total Salary, average Salary, number of employees department wise"
   ]
  },
  {
   "cell_type": "code",
   "execution_count": 16,
   "metadata": {},
   "outputs": [
    {
     "data": {
      "text/plain": [
       "\u001b[32mimport \u001b[39m\u001b[36mscala.io.Source\u001b[39m\n",
       "\u001b[36mfilePath\u001b[39m: \u001b[32mString\u001b[39m = \u001b[32m\"data.csv\"\u001b[39m\n",
       "\u001b[36mfileSource\u001b[39m: \u001b[32mscala\u001b[39m.\u001b[32mio\u001b[39m.\u001b[32mBufferedSource\u001b[39m = \u001b[32mnon-empty iterator\u001b[39m"
      ]
     },
     "execution_count": 16,
     "metadata": {},
     "output_type": "execute_result"
    }
   ],
   "source": [
    "// 1. Reading the file\n",
    "import scala.io.Source\n",
    "\n",
    "val filePath = \"data.csv\"\n",
    "val fileSource = Source.fromFile(filePath)\n"
   ]
  },
  {
   "cell_type": "code",
   "execution_count": 17,
   "metadata": {},
   "outputs": [
    {
     "data": {
      "text/plain": [
       "defined \u001b[32mclass\u001b[39m \u001b[36mEmployee\u001b[39m"
      ]
     },
     "execution_count": 17,
     "metadata": {},
     "output_type": "execute_result"
    }
   ],
   "source": [
    "// 2.case class to represent entity\n",
    "case class Employee(name:String, city:String, department:String, salary:Integer){\n",
    "    override def toString():String = s\" $name lives in $city and works in $department department has INR $salary \"\n",
    "    \n",
    "}"
   ]
  },
  {
   "cell_type": "code",
   "execution_count": 18,
   "metadata": {},
   "outputs": [
    {
     "data": {
      "text/plain": [
       "\u001b[32mimport \u001b[39m\u001b[36mscala.collection.mutable.ListBuffer\u001b[39m\n",
       "\u001b[36memployees\u001b[39m: \u001b[32mListBuffer\u001b[39m[\u001b[32mEmployee\u001b[39m] = \u001b[33mListBuffer\u001b[39m(\n",
       "  \u001b[33mEmployee\u001b[39m(\n",
       "    name = \u001b[32m\"John Doe\"\u001b[39m,\n",
       "    city = \u001b[32m\"New York\"\u001b[39m,\n",
       "    department = \u001b[32m\"Marketing\"\u001b[39m,\n",
       "    salary = \u001b[32m60000\u001b[39m\n",
       "  ),\n",
       "  \u001b[33mEmployee\u001b[39m(\n",
       "    name = \u001b[32m\"Jane Smith\"\u001b[39m,\n",
       "    city = \u001b[32m\"Los Angeles\"\u001b[39m,\n",
       "    department = \u001b[32m\"Finance\"\u001b[39m,\n",
       "    salary = \u001b[32m55000\u001b[39m\n",
       "  ),\n",
       "  \u001b[33mEmployee\u001b[39m(\n",
       "    name = \u001b[32m\"Michael Johnson\"\u001b[39m,\n",
       "    city = \u001b[32m\"Chicago\"\u001b[39m,\n",
       "    department = \u001b[32m\"HR\"\u001b[39m,\n",
       "    salary = \u001b[32m62000\u001b[39m\n",
       "  ),\n",
       "  \u001b[33mEmployee\u001b[39m(\n",
       "    name = \u001b[32m\"Sarah Lee\"\u001b[39m,\n",
       "    city = \u001b[32m\"San Francisco\"\u001b[39m,\n",
       "    department = \u001b[32m\"Engineering\"\u001b[39m,\n",
       "    salary = \u001b[32m58000\u001b[39m\n",
       "  ),\n",
       "  \u001b[33mEmployee\u001b[39m(\n",
       "    name = \u001b[32m\"David Brown\"\u001b[39m,\n",
       "    city = \u001b[32m\"Houston\"\u001b[39m,\n",
       "    department = \u001b[32m\"Operations\"\u001b[39m,\n",
       "    salary = \u001b[32m63000\u001b[39m\n",
       "  ),\n",
       "  \u001b[33mEmployee\u001b[39m(\n",
       "    name = \u001b[32m\"Emily Taylor\"\u001b[39m,\n",
       "    city = \u001b[32m\"Miami\"\u001b[39m,\n",
       "    department = \u001b[32m\"Sales\"\u001b[39m,\n",
       "    salary = \u001b[32m54000\u001b[39m\n",
       "  ),\n",
       "  \u001b[33mEmployee\u001b[39m(\n",
       "    name = \u001b[32m\"James Wilson\"\u001b[39m,\n",
       "..."
      ]
     },
     "execution_count": 18,
     "metadata": {},
     "output_type": "execute_result"
    }
   ],
   "source": [
    "// 3. adding all records of files to the list\n",
    "import scala.collection.mutable.ListBuffer\n",
    "val employees = ListBuffer[Employee]()\n",
    "\n",
    "try{\n",
    "    val empFile = fileSource.getLines().drop(1)\n",
    "    for(employee <- empFile){\n",
    "    val empDetails = employee.split(\",\")\n",
    "    val newEmployee = new Employee(empDetails(1),empDetails(2),empDetails(4),empDetails(3).toInt)\n",
    "    employees += newEmployee\n",
    "    }\n",
    "}\n",
    "finally{\n",
    "    fileSource.close()\n",
    "}\n"
   ]
  },
  {
   "cell_type": "code",
   "execution_count": 19,
   "metadata": {},
   "outputs": [
    {
     "data": {
      "text/plain": [
       "\u001b[36mfilteredSalary\u001b[39m: \u001b[32mListBuffer\u001b[39m[\u001b[32mEmployee\u001b[39m] = \u001b[33mListBuffer\u001b[39m(\n",
       "  \u001b[33mEmployee\u001b[39m(\n",
       "    name = \u001b[32m\"Michael Johnson\"\u001b[39m,\n",
       "    city = \u001b[32m\"Chicago\"\u001b[39m,\n",
       "    department = \u001b[32m\"HR\"\u001b[39m,\n",
       "    salary = \u001b[32m62000\u001b[39m\n",
       "  ),\n",
       "  \u001b[33mEmployee\u001b[39m(\n",
       "    name = \u001b[32m\"David Brown\"\u001b[39m,\n",
       "    city = \u001b[32m\"Houston\"\u001b[39m,\n",
       "    department = \u001b[32m\"Operations\"\u001b[39m,\n",
       "    salary = \u001b[32m63000\u001b[39m\n",
       "  ),\n",
       "  \u001b[33mEmployee\u001b[39m(\n",
       "    name = \u001b[32m\"Emma Anderson\"\u001b[39m,\n",
       "    city = \u001b[32m\"Seattle\"\u001b[39m,\n",
       "    department = \u001b[32m\"Finance\"\u001b[39m,\n",
       "    salary = \u001b[32m61000\u001b[39m\n",
       "  ),\n",
       "  \u001b[33mEmployee\u001b[39m(\n",
       "    name = \u001b[32m\"Olivia Thomas\"\u001b[39m,\n",
       "    city = \u001b[32m\"Atlanta\"\u001b[39m,\n",
       "    department = \u001b[32m\"Engineering\"\u001b[39m,\n",
       "    salary = \u001b[32m64000\u001b[39m\n",
       "  ),\n",
       "  \u001b[33mEmployee\u001b[39m(\n",
       "    name = \u001b[32m\"Mia Gonzalez\"\u001b[39m,\n",
       "    city = \u001b[32m\"Detroit\"\u001b[39m,\n",
       "    department = \u001b[32m\"Finance\"\u001b[39m,\n",
       "    salary = \u001b[32m62000\u001b[39m\n",
       "  ),\n",
       "  \u001b[33mEmployee\u001b[39m(\n",
       "    name = \u001b[32m\"Isabella Carter\"\u001b[39m,\n",
       "    city = \u001b[32m\"Portland\"\u001b[39m,\n",
       "    department = \u001b[32m\"Engineering\"\u001b[39m,\n",
       "    salary = \u001b[32m63000\u001b[39m\n",
       "  ),\n",
       "  \u001b[33mEmployee\u001b[39m(\n",
       "    name = \u001b[32m\"Ava Ramirez\"\u001b[39m,\n",
       "..."
      ]
     },
     "execution_count": 19,
     "metadata": {},
     "output_type": "execute_result"
    }
   ],
   "source": [
    "// 4. filtering detals of employees based on :\n",
    "// 4.1)filter employees where salary > 60000\n",
    "val filteredSalary = employees.filter(_.salary > 60000)"
   ]
  },
  {
   "cell_type": "code",
   "execution_count": 20,
   "metadata": {},
   "outputs": [
    {
     "data": {
      "text/plain": [
       "\u001b[36mdept\u001b[39m: \u001b[32mString\u001b[39m = \u001b[32m\"Marketing\"\u001b[39m\n",
       "\u001b[36mfilterByDepartment\u001b[39m: \u001b[32mListBuffer\u001b[39m[\u001b[32mEmployee\u001b[39m] = \u001b[33mListBuffer\u001b[39m(\n",
       "  \u001b[33mEmployee\u001b[39m(\n",
       "    name = \u001b[32m\"John Doe\"\u001b[39m,\n",
       "    city = \u001b[32m\"New York\"\u001b[39m,\n",
       "    department = \u001b[32m\"Marketing\"\u001b[39m,\n",
       "    salary = \u001b[32m60000\u001b[39m\n",
       "  ),\n",
       "  \u001b[33mEmployee\u001b[39m(\n",
       "    name = \u001b[32m\"James Wilson\"\u001b[39m,\n",
       "    city = \u001b[32m\"Dallas\"\u001b[39m,\n",
       "    department = \u001b[32m\"Marketing\"\u001b[39m,\n",
       "    salary = \u001b[32m59000\u001b[39m\n",
       "  ),\n",
       "  \u001b[33mEmployee\u001b[39m(\n",
       "    name = \u001b[32m\"Alexander Lopez\"\u001b[39m,\n",
       "    city = \u001b[32m\"Philadelphia\"\u001b[39m,\n",
       "    department = \u001b[32m\"Marketing\"\u001b[39m,\n",
       "    salary = \u001b[32m56000\u001b[39m\n",
       "  ),\n",
       "  \u001b[33mEmployee\u001b[39m(\n",
       "    name = \u001b[32m\"Logan Sanders\"\u001b[39m,\n",
       "    city = \u001b[32m\"Washington\"\u001b[39m,\n",
       "    department = \u001b[32m\"Marketing\"\u001b[39m,\n",
       "    salary = \u001b[32m57000\u001b[39m\n",
       "  ),\n",
       "  \u001b[33mEmployee\u001b[39m(\n",
       "    name = \u001b[32m\"Sofia Cooper\"\u001b[39m,\n",
       "    city = \u001b[32m\"Louisville\"\u001b[39m,\n",
       "    department = \u001b[32m\"Marketing\"\u001b[39m,\n",
       "    salary = \u001b[32m54000\u001b[39m\n",
       "  ),\n",
       "  \u001b[33mEmployee\u001b[39m(\n",
       "    name = \u001b[32m\"Aria Nelson\"\u001b[39m,\n",
       "    city = \u001b[32m\"Tucson\"\u001b[39m,\n",
       "    department = \u001b[32m\"Marketing\"\u001b[39m,\n",
       "    salary = \u001b[32m57000\u001b[39m\n",
       "  ),\n",
       "  \u001b[33mEmployee\u001b[39m(\n",
       "    name = \u001b[32m\"Riley Brooks\"\u001b[39m,\n",
       "..."
      ]
     },
     "execution_count": 20,
     "metadata": {},
     "output_type": "execute_result"
    }
   ],
   "source": [
    "// 4.2) filter employees where department is Marketing\n",
    "val dept = \"Marketing\"\n",
    "val filterByDepartment = employees.filter(_.department.toLowerCase == dept.toLowerCase)"
   ]
  },
  {
   "cell_type": "code",
   "execution_count": 21,
   "metadata": {},
   "outputs": [
    {
     "name": "stdout",
     "output_type": "stream",
     "text": [
      " John Doe lives in New York and works in Marketing department has INR 60000 \n",
      " Jane Smith lives in Los Angeles and works in Finance department has INR 55000 \n",
      " Michael Johnson lives in Chicago and works in HR department has INR 62000 \n",
      " Sarah Lee lives in San Francisco and works in Engineering department has INR 58000 \n",
      " David Brown lives in Houston and works in Operations department has INR 63000 \n",
      " Emily Taylor lives in Miami and works in Sales department has INR 54000 \n",
      " James Wilson lives in Dallas and works in Marketing department has INR 59000 \n",
      " Emma Anderson lives in Seattle and works in Finance department has INR 61000 \n",
      " Matthew Martinez lives in Boston and works in HR department has INR 57000 \n",
      " Olivia Thomas lives in Atlanta and works in Engineering department has INR 64000 \n",
      " Liam Garcia lives in Denver and works in Operations department has INR 53000 \n",
      " Sophia Hernandez lives in Phoenix and works in Sales department has INR 60000 \n",
      " Alexander Lopez lives in Philadelphia and works in Marketing department has INR 56000 \n",
      " Mia Gonzalez lives in Detroit and works in Finance department has INR 62000 \n",
      " Ethan Perez lives in Minneapolis and works in HR department has INR 55000 \n",
      " Isabella Carter lives in Portland and works in Engineering department has INR 63000 \n",
      " Mason Torres lives in Baltimore and works in Operations department has INR 52000 \n",
      " Ava Ramirez lives in San Diego and works in Sales department has INR 64000 \n",
      " Logan Sanders lives in Washington and works in Marketing department has INR 57000 \n",
      " Harper King lives in Birmingham and works in Finance department has INR 61000 \n",
      " Lucas Rivera lives in Memphis and works in HR department has INR 59000 \n",
      " Evelyn Scott lives in Nashville and works in Engineering department has INR 60000 \n",
      " Avery Green lives in Milwaukee and works in Operations department has INR 56000 \n",
      " Lincoln Taylor lives in Indianapolis and works in Sales department has INR 62000 \n",
      " Sofia Cooper lives in Louisville and works in Marketing department has INR 54000 \n",
      " Aiden Bennett lives in Jacksonville and works in Finance department has INR 63000 \n",
      " Madison Flores lives in Charlotte and works in HR department has INR 58000 \n",
      " Ella Collins lives in San Jose and works in Engineering department has INR 65000 \n",
      " Chloe Howard lives in San Antonio and works in Operations department has INR 53000 \n",
      " Carter Hughes lives in Oklahoma City and works in Sales department has INR 61000 \n",
      " Aria Nelson lives in Tucson and works in Marketing department has INR 57000 \n",
      " Grayson Baker lives in Cleveland and works in Finance department has INR 60000 \n",
      " Zoey Morris lives in Mesa and works in HR department has INR 55000 \n",
      " Nova Ward lives in Kansas City and works in Engineering department has INR 64000 \n",
      " Hudson James lives in Virginia Beach and works in Operations department has INR 52000 \n",
      " Leah Watson lives in Atlanta and works in Sales department has INR 62000 \n",
      " Riley Brooks lives in Colorado Springs and works in Marketing department has INR 54000 \n",
      " Emery Kelly lives in Raleigh and works in Finance department has INR 59000 \n",
      " Luke Reed lives in Omaha and works in HR department has INR 61000 \n",
      " Layla Cooper lives in Miami and works in Engineering department has INR 56000 \n",
      " Ayden Rivera lives in Tulsa and works in Operations department has INR 63000 \n",
      " Penelope Coleman lives in Oakland and works in Sales department has INR 58000 \n",
      " Lincoln Powell lives in Minneapolis and works in Marketing department has INR 65000 \n",
      " Aubrey Long lives in Arlington and works in Finance department has INR 60000 \n",
      " Grace Hughes lives in Bakersfield and works in HR department has INR 55000 \n",
      " Nolan Ward lives in Tampa and works in Engineering department has INR 64000 \n",
      " Bella Barnes lives in Honolulu and works in Operations department has INR 52000 \n",
      " Ellie Howard lives in Anaheim and works in Sales department has INR 62000 \n",
      " Liam Wright lives in Pittsburgh and works in Marketing department has INR 56000 \n",
      " Emma Evans lives in Cincinnati and works in Finance department has INR 61000 \n"
     ]
    },
    {
     "data": {
      "text/plain": [
       "defined \u001b[32mfunction\u001b[39m \u001b[36mprintEmpDetails\u001b[39m\n",
       "\u001b[36mres21_1\u001b[39m: \u001b[32mListBuffer\u001b[39m[\u001b[32mUnit\u001b[39m] = \u001b[33mListBuffer\u001b[39m(\n",
       "  (),\n",
       "  (),\n",
       "  (),\n",
       "  (),\n",
       "  (),\n",
       "  (),\n",
       "  (),\n",
       "  (),\n",
       "  (),\n",
       "  (),\n",
       "  (),\n",
       "  (),\n",
       "  (),\n",
       "  (),\n",
       "  (),\n",
       "  (),\n",
       "  (),\n",
       "  (),\n",
       "  (),\n",
       "  (),\n",
       "  (),\n",
       "  (),\n",
       "  (),\n",
       "  (),\n",
       "  (),\n",
       "  (),\n",
       "  (),\n",
       "  (),\n",
       "  (),\n",
       "  (),\n",
       "  (),\n",
       "  (),\n",
       "  (),\n",
       "  (),\n",
       "  (),\n",
       "  (),\n",
       "  (),\n",
       "  (),\n",
       "..."
      ]
     },
     "execution_count": 21,
     "metadata": {},
     "output_type": "execute_result"
    }
   ],
   "source": [
    "// 5. Map operations to produce formatted output\n",
    "def printEmpDetails(employee:Employee):Unit = println(s\" ${employee.name} lives in ${employee.city} and works in ${employee.department} department has INR ${employee.salary} \")\n",
    "employees.map(printEmpDetails)"
   ]
  },
  {
   "cell_type": "code",
   "execution_count": 23,
   "metadata": {},
   "outputs": [
    {
     "name": "stdout",
     "output_type": "stream",
     "text": [
      "Total salary: 2943000\n",
      "Average salary: 58860\n",
      "HashMap(Engineering -> 8, Operations -> 8, Sales -> 8, Marketing -> 9, HR -> 8, Finance -> 9)\n"
     ]
    },
    {
     "data": {
      "text/plain": [
       "\u001b[36mtotalSalary\u001b[39m: \u001b[32mInteger\u001b[39m = \u001b[32m2943000\u001b[39m\n",
       "\u001b[36maverageSalary\u001b[39m: \u001b[32mInt\u001b[39m = \u001b[32m58860\u001b[39m\n",
       "\u001b[36mempByDept\u001b[39m: \u001b[32mMap\u001b[39m[\u001b[32mString\u001b[39m, \u001b[32mInt\u001b[39m] = \u001b[33mHashMap\u001b[39m(\n",
       "  \u001b[32m\"Engineering\"\u001b[39m -> \u001b[32m8\u001b[39m,\n",
       "  \u001b[32m\"Operations\"\u001b[39m -> \u001b[32m8\u001b[39m,\n",
       "  \u001b[32m\"Sales\"\u001b[39m -> \u001b[32m8\u001b[39m,\n",
       "  \u001b[32m\"Marketing\"\u001b[39m -> \u001b[32m9\u001b[39m,\n",
       "  \u001b[32m\"HR\"\u001b[39m -> \u001b[32m8\u001b[39m,\n",
       "  \u001b[32m\"Finance\"\u001b[39m -> \u001b[32m9\u001b[39m\n",
       ")"
      ]
     },
     "execution_count": 23,
     "metadata": {},
     "output_type": "execute_result"
    }
   ],
   "source": [
    "// 6. reduce operation to find total Salary, average Salary, number of employees department wise\n",
    "val totalSalary = employees.map(_.salary).reduce(_+_)\n",
    "val averageSalary = totalSalary / employees.size\n",
    "val empByDept = employees.groupBy(_.department).map{\n",
    "    case (department,empList) => (department, empList.size)\n",
    "}\n",
    "\n",
    "println(\"Total salary: \"+totalSalary)\n",
    "println(\"Average salary: \"+averageSalary)\n",
    "println(empByDept)\n"
   ]
  }
 ],
 "metadata": {
  "kernelspec": {
   "display_name": "Scala",
   "language": "scala",
   "name": "scala"
  },
  "language_info": {
   "codemirror_mode": "text/x-scala",
   "file_extension": ".sc",
   "mimetype": "text/x-scala",
   "name": "scala",
   "nbconvert_exporter": "script",
   "version": "2.13.14"
  }
 },
 "nbformat": 4,
 "nbformat_minor": 2
}
