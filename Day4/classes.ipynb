{
 "cells": [
  {
   "cell_type": "markdown",
   "metadata": {},
   "source": [
    "#### Case classes: creates immutable data objects. We don't have to write any methods inside this class."
   ]
  },
  {
   "cell_type": "code",
   "execution_count": 8,
   "metadata": {},
   "outputs": [
    {
     "name": "stdout",
     "output_type": "stream",
     "text": [
      "ammonite.$sess.cmd8$Helper$Book@20de1380\n",
      "Food(Veg Loaded pizza)\n"
     ]
    },
    {
     "data": {
      "text/plain": [
       "defined \u001b[32mclass\u001b[39m \u001b[36mBook\u001b[39m\n",
       "defined \u001b[32mclass\u001b[39m \u001b[36mFood\u001b[39m\n",
       "\u001b[36mncert\u001b[39m: \u001b[32mBook\u001b[39m = ammonite.$sess.cmd8$Helper$Book@20de1380\n",
       "\u001b[36mpizza\u001b[39m: \u001b[32mFood\u001b[39m = \u001b[33mFood\u001b[39m(name = \u001b[32m\"Veg Loaded pizza\"\u001b[39m)"
      ]
     },
     "execution_count": 8,
     "metadata": {},
     "output_type": "execute_result"
    }
   ],
   "source": [
    "// case class\n",
    "// we don't need to override toString to method to print objects in case classes\n",
    "class Book(val isbn:String)\n",
    "\n",
    "case class Food(val name:String){}\n",
    "\n",
    "val ncert = new Book(\"HVHHV-5656VH-JB\")\n",
    "val pizza = new Food(\"Veg Loaded pizza\")\n",
    "println(ncert)\n",
    "println(pizza)"
   ]
  },
  {
   "cell_type": "code",
   "execution_count": 9,
   "metadata": {},
   "outputs": [
    {
     "name": "stdout",
     "output_type": "stream",
     "text": [
      "comparing Food(Burger) and Food(Big Mac Burger) : false\n",
      "comparing Food(Burger) and Food(Burger) : true\n"
     ]
    },
    {
     "data": {
      "text/plain": [
       "\u001b[36mburger\u001b[39m: \u001b[32mFood\u001b[39m = \u001b[33mFood\u001b[39m(name = \u001b[32m\"Burger\"\u001b[39m)\n",
       "\u001b[36mcheeseBurger\u001b[39m: \u001b[32mFood\u001b[39m = \u001b[33mFood\u001b[39m(name = \u001b[32m\"Burger\"\u001b[39m)\n",
       "\u001b[36mmacBurger\u001b[39m: \u001b[32mFood\u001b[39m = \u001b[33mFood\u001b[39m(name = \u001b[32m\"Big Mac Burger\"\u001b[39m)"
      ]
     },
     "execution_count": 9,
     "metadata": {},
     "output_type": "execute_result"
    }
   ],
   "source": [
    "// we can compare objects of case classes directly\n",
    "val burger = new Food(\"Burger\")\n",
    "val cheeseBurger = new Food(\"Burger\")\n",
    "val macBurger = new Food(\"Big Mac Burger\")\n",
    "\n",
    "println(s\"comparing $burger and $macBurger : ${burger==macBurger}\")\n",
    "println(s\"comparing $burger and $cheeseBurger : ${burger==cheeseBurger}\")"
   ]
  },
  {
   "cell_type": "markdown",
   "metadata": {},
   "source": [
    "#### Anonymous class: Classes without name and it is used for extending existing classes/traits"
   ]
  },
  {
   "cell_type": "code",
   "execution_count": 6,
   "metadata": {},
   "outputs": [
    {
     "name": "stdout",
     "output_type": "stream",
     "text": [
      "Starting bike's engine!\n"
     ]
    },
    {
     "data": {
      "text/plain": [
       "defined \u001b[32mtrait\u001b[39m \u001b[36mVehicle\u001b[39m\n",
       "\u001b[36mbike\u001b[39m: \u001b[32mAnyRef\u001b[39m with \u001b[32mVehicle\u001b[39m = ammonite.$sess.cmd6$Helper$$anon$1@2b2960bd"
      ]
     },
     "execution_count": 6,
     "metadata": {},
     "output_type": "execute_result"
    }
   ],
   "source": [
    "trait Vehicle{\n",
    "    def startEngine():Unit\n",
    "}\n",
    "\n",
    "val bike = new Vehicle{\n",
    "    def startEngine() = println(\"Starting bike's engine!\")\n",
    "}\n",
    "\n",
    "bike.startEngine()"
   ]
  },
  {
   "cell_type": "markdown",
   "metadata": {},
   "source": [
    "#### anonymous classes with lambda implementations"
   ]
  },
  {
   "cell_type": "code",
   "execution_count": 7,
   "metadata": {},
   "outputs": [
    {
     "name": "stdout",
     "output_type": "stream",
     "text": [
      "Starting car's engine\n"
     ]
    },
    {
     "data": {
      "text/plain": [
       "\u001b[36mcar\u001b[39m: \u001b[32mVehicle\u001b[39m = ammonite.$sess.cmd7$Helper$$anonfun$1@466977aa"
      ]
     },
     "execution_count": 7,
     "metadata": {},
     "output_type": "execute_result"
    }
   ],
   "source": [
    "val car:Vehicle = () => {\n",
    "    println(\"Starting car's engine\")\n",
    "}\n",
    "\n",
    "car.startEngine()"
   ]
  }
 ],
 "metadata": {
  "kernelspec": {
   "display_name": "Scala",
   "language": "scala",
   "name": "scala"
  },
  "language_info": {
   "codemirror_mode": "text/x-scala",
   "file_extension": ".sc",
   "mimetype": "text/x-scala",
   "name": "scala",
   "nbconvert_exporter": "script",
   "version": "2.13.14"
  }
 },
 "nbformat": 4,
 "nbformat_minor": 2
}
