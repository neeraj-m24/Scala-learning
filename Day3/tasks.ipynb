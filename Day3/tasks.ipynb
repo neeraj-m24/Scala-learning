{
 "cells": [
  {
   "cell_type": "markdown",
   "metadata": {},
   "source": [
    "#### 1. Encapsulation: Used for data hiding by declaring all variables private to restrict direct access of these variables.\n",
    "* Class: Blue print of an object\n",
    "* Object: Instance of a class\n",
    "* Instance Variable: variables belonging to an instance of a class.\n",
    "* Constructor: It is used to initialize instance variables and is called while instances of a class is created\n",
    "\n"
   ]
  },
  {
   "cell_type": "code",
   "execution_count": 13,
   "metadata": {},
   "outputs": [
    {
     "name": "stdout",
     "output_type": "stream",
     "text": [
      "course id: 5141c08e-d471-4101-b46b-713ac0e759ad : Graph Theory is mentored by Trevor and course duration is 16 hours.\n",
      "course id: 33d589fe-889c-4dfb-b46c-10c1567cf30d : Networking Concepts is mentored by Trevor and course duration is 5 hours.\n"
     ]
    },
    {
     "data": {
      "text/html": [
       "<div class=\"jp-RenderedText\">\n",
       "<pre><code><span style=\"color: rgb(0, 187, 0)\"><span class=\"ansi-green-fg\">import </span></span><span style=\"color: rgb(0, 187, 187)\"><span class=\"ansi-cyan-fg\">java.util.UUID</span></span>\n",
       "defined <span style=\"color: rgb(0, 187, 0)\"><span class=\"ansi-green-fg\">class</span></span> <span style=\"color: rgb(0, 187, 187)\"><span class=\"ansi-cyan-fg\">Course</span></span>\n",
       "<span style=\"color: rgb(0, 187, 187)\"><span class=\"ansi-cyan-fg\">dsa</span></span>: <span style=\"color: rgb(0, 187, 0)\"><span class=\"ansi-green-fg\">Course</span></span> = course id: 5141c08e-d471-4101-b46b-713ac0e759ad : Graph Theory is mentored by Trevor and course duration is 16 hours.\n",
       "<span style=\"color: rgb(0, 187, 187)\"><span class=\"ansi-cyan-fg\">networking</span></span>: <span style=\"color: rgb(0, 187, 0)\"><span class=\"ansi-green-fg\">Course</span></span> = course id: 33d589fe-889c-4dfb-b46c-10c1567cf30d : Networking Concepts is mentored by Trevor and course duration is 5 hours.</code></pre>\n",
       "</div>"
      ],
      "text/plain": [
       "\u001b[32mimport \u001b[39m\u001b[36mjava.util.UUID\u001b[39m\n",
       "defined \u001b[32mclass\u001b[39m \u001b[36mCourse\u001b[39m\n",
       "\u001b[36mdsa\u001b[39m: \u001b[32mCourse\u001b[39m = course id: 5141c08e-d471-4101-b46b-713ac0e759ad : Graph Theory is mentored by Trevor and course duration is 16 hours.\n",
       "\u001b[36mnetworking\u001b[39m: \u001b[32mCourse\u001b[39m = course id: 33d589fe-889c-4dfb-b46c-10c1567cf30d : Networking Concepts is mentored by Trevor and course duration is 5 hours."
      ]
     },
     "metadata": {},
     "output_type": "display_data"
    }
   ],
   "source": [
    "import java.util.UUID\n",
    "\n",
    "class Course(var mentor:String, var title:String, var duration:Int, private val id:UUID = UUID.randomUUID()){\n",
    "    def getId():UUID = {\n",
    "        id\n",
    "    }\n",
    "\n",
    "    override def toString():String = s\"course id: $id : $title is mentored by $mentor and course duration is $duration hours.\"\n",
    "\n",
    "}\n",
    "var dsa = new Course(\"Trevor\",\"Graph Theory\",16)\n",
    "var networking = new Course(\"Trevor\",\"Networking Concepts\",5)\n",
    "println(dsa)\n",
    "println(networking)"
   ]
  },
  {
   "cell_type": "markdown",
   "metadata": {},
   "source": [
    "#### 2. Abstraction: Used for data hiding and it shows what an object does and hides how it does.\n",
    "##### Access specifiers\n",
    "* private: fields declared with this are only accessible within the same class it is defined.\n",
    "* public: fields declared with this can be accessed from anywhere. By default all the variables and methods are public\n",
    "* protected: fields declared with this can only be accessed from the same class and it's subclasses.\n"
   ]
  },
  {
   "cell_type": "code",
   "execution_count": 46,
   "metadata": {},
   "outputs": [
    {
     "name": "stdout",
     "output_type": "stream",
     "text": [
      "SDE: Trevor, salary: 5267000.67\n",
      "Manager: Abhishek, salary: 6289791.569\n"
     ]
    },
    {
     "data": {
      "text/plain": [
       "defined \u001b[32mclass\u001b[39m \u001b[36mEmployee\u001b[39m\n",
       "defined \u001b[32mclass\u001b[39m \u001b[36mManager\u001b[39m\n",
       "defined \u001b[32mclass\u001b[39m \u001b[36mSDE\u001b[39m\n",
       "\u001b[36msde1\u001b[39m: \u001b[32mSDE\u001b[39m = ammonite.$sess.cmd46$Helper$SDE@3ffb11f5\n",
       "\u001b[36mmanager1\u001b[39m: \u001b[32mManager\u001b[39m = ammonite.$sess.cmd46$Helper$Manager@1b917aa6"
      ]
     },
     "execution_count": 46,
     "metadata": {},
     "output_type": "execute_result"
    }
   ],
   "source": [
    "// abstraction\n",
    "abstract class Employee{\n",
    "    protected def salary():Double\n",
    "    def details():String\n",
    "}\n",
    "\n",
    "class Manager(private val name:String, private val salaryAmount:Double) extends Employee{\n",
    "    def salary():Double = salaryAmount\n",
    "    def details():String = s\"Manager: $name, salary: $salaryAmount\"\n",
    "}\n",
    "\n",
    "class SDE(private val name:String, private val salaryAmount:Double) extends Employee{\n",
    "    def salary():Double = salaryAmount\n",
    "    def details():String = s\"SDE: $name, salary: $salaryAmount\"\n",
    "}\n",
    "\n",
    "val sde1 = new SDE(\"Trevor\",5267000.67)\n",
    "val manager1 = new Manager(\"Abhishek\",6289791.569)\n",
    "\n",
    "println(sde1.details())\n",
    "println(manager1.details())"
   ]
  },
  {
   "cell_type": "markdown",
   "metadata": {},
   "source": [
    "#### 3. Polymorphism: It allows us to have one defination with different implementations.\n",
    "* Method overloading: When a class have same method name but diffrent method signature.\n",
    "* Method overriding: When a subclass gives method implementation for an already defined method in super class\n",
    "* Operator overloading: Allows us to re-define the behaviour of operators for user defined data types(eg. class)\n",
    "* Constructor overloading: class having different constructors with different parameter list."
   ]
  },
  {
   "cell_type": "code",
   "execution_count": 17,
   "metadata": {},
   "outputs": [
    {
     "name": "stdout",
     "output_type": "stream",
     "text": [
      "Area of square: 4\n",
      "Area of rectangle: 8\n"
     ]
    },
    {
     "data": {
      "text/plain": [
       "defined \u001b[32mclass\u001b[39m \u001b[36mShape\u001b[39m\n",
       "\u001b[36mobj\u001b[39m: \u001b[32mShape\u001b[39m = ammonite.$sess.cmd17$Helper$Shape@577631bc"
      ]
     },
     "execution_count": 17,
     "metadata": {},
     "output_type": "execute_result"
    }
   ],
   "source": [
    "// method overloading\n",
    "class Shape{\n",
    "    // calculates area of rectangle\n",
    "    def area(length:Int,breadth:Int): Int = length*breadth\n",
    "    \n",
    "    // calculates area of square\n",
    "    def area(length:Int):Int = length*length\n",
    "}\n",
    "\n",
    "val obj = new Shape()\n",
    "println(\"Area of square: \"+obj.area(2))\n",
    "println(\"Area of rectangle: \"+obj.area(2,4))"
   ]
  },
  {
   "cell_type": "code",
   "execution_count": 38,
   "metadata": {},
   "outputs": [
    {
     "name": "stdout",
     "output_type": "stream",
     "text": [
      "My name is Naruto and I am 16 years old.\n",
      "My name is Madara and I am 101 years old.\n",
      "My name is Otsuki and I am 1000 years old.\n"
     ]
    },
    {
     "data": {
      "text/plain": [
       "defined \u001b[32mclass\u001b[39m \u001b[36mPerson\u001b[39m\n",
       "\u001b[36mp1\u001b[39m: \u001b[32mPerson\u001b[39m = My name is Naruto and I am 16 years old.\n",
       "\u001b[36mp2\u001b[39m: \u001b[32mPerson\u001b[39m = My name is Madara and I am 101 years old.\n",
       "\u001b[36mp3\u001b[39m: \u001b[32mPerson\u001b[39m = My name is Otsuki and I am 1000 years old."
      ]
     },
     "execution_count": 38,
     "metadata": {},
     "output_type": "execute_result"
    }
   ],
   "source": [
    "// constructor overloading\n",
    "class Person(\n",
    "    val name:String,\n",
    "    val age:Int\n",
    "){\n",
    "    // auxillary constructor\n",
    "    def this(name:String)={\n",
    "        this(name,101)\n",
    "    }\n",
    "\n",
    "    def this() = {\n",
    "        this(\"Otsuki\",1000)\n",
    "    }\n",
    "\n",
    "    override def toString() = s\"My name is $name and I am $age years old.\"\n",
    "}\n",
    "\n",
    "val p1 = new Person(\"Naruto\",16)\n",
    "val p2 = new Person(\"Madara\")\n",
    "val p3 = new Person()\n",
    "println(p1)\n",
    "println(p2)\n",
    "println(p3)\n"
   ]
  },
  {
   "cell_type": "markdown",
   "metadata": {},
   "source": [
    "#### 4. Inheritance: Allows a class to inherit the methods of an existing class\n",
    "* Abstract class: way to achieve inheritance. This class cannot be instantiated by itself and serves as a blue print for other class and allows them to inherit its methods and\n",
    "properties and also give them option to implement the abstract methods defined in it.\n"
   ]
  },
  {
   "cell_type": "code",
   "execution_count": 27,
   "metadata": {},
   "outputs": [
    {
     "name": "stdout",
     "output_type": "stream",
     "text": [
      "Kangaroo is Walking on 2 legs\n",
      "Elephant is Walking on 4 legs\n"
     ]
    },
    {
     "data": {
      "text/plain": [
       "defined \u001b[32mclass\u001b[39m \u001b[36mAnimal\u001b[39m\n",
       "defined \u001b[32mclass\u001b[39m \u001b[36mKangaroo\u001b[39m\n",
       "defined \u001b[32mclass\u001b[39m \u001b[36mElephant\u001b[39m\n",
       "\u001b[36mbigKangaroo\u001b[39m: \u001b[32mKangaroo\u001b[39m = ammonite.$sess.cmd27$Helper$Kangaroo@6229c64e\n",
       "\u001b[36mbabyElephant\u001b[39m: \u001b[32mElephant\u001b[39m = ammonite.$sess.cmd27$Helper$Elephant@384ebb64"
      ]
     },
     "execution_count": 27,
     "metadata": {},
     "output_type": "execute_result"
    }
   ],
   "source": [
    "// Super class\n",
    "abstract class Animal{                    // Abstract class \n",
    "    def walk():String = \"Walking on 4 legs\"\n",
    "}\n",
    "\n",
    "class Kangaroo extends Animal{           // sub class\n",
    "    // method overriding\n",
    "    override def walk():String = \"Walking on 2 legs\"\n",
    "}\n",
    "\n",
    "class Elephant extends Animal{}\n",
    "\n",
    "val bigKangaroo = new Kangaroo()\n",
    "val babyElephant = new Elephant()\n",
    "println(\"Kangaroo is \"+bigKangaroo.walk())\n",
    "println(\"Elephant is \"+babyElephant.walk())"
   ]
  },
  {
   "cell_type": "code",
   "execution_count": 50,
   "metadata": {},
   "outputs": [
    {
     "name": "stdout",
     "output_type": "stream",
     "text": [
      "x: 4, y: 7\n"
     ]
    },
    {
     "data": {
      "text/plain": [
       "defined \u001b[32mclass\u001b[39m \u001b[36mPoint\u001b[39m\n",
       "\u001b[36mp1\u001b[39m: \u001b[32mPoint\u001b[39m = x: 1, y: 2\n",
       "\u001b[36mp2\u001b[39m: \u001b[32mPoint\u001b[39m = x: 3, y: 5\n",
       "\u001b[36mp3\u001b[39m: \u001b[32mPoint\u001b[39m = x: 4, y: 7"
      ]
     },
     "execution_count": 50,
     "metadata": {},
     "output_type": "execute_result"
    }
   ],
   "source": [
    "// operator overloading\n",
    "class Point(val x:Int, val y:Int){\n",
    "    def +(coordinate:Point):Point = new Point(x + coordinate.x, y + coordinate.y)\n",
    "\n",
    "    override def toString(): String = s\"x: $x, y: $y\"\n",
    "}\n",
    "\n",
    "val p1 = new Point(1,2)\n",
    "val p2 = new Point(3,5)\n",
    "val p3 = p1+p2   // it is same as p1.+(p2)\n",
    "println(p3)"
   ]
  },
  {
   "cell_type": "markdown",
   "metadata": {},
   "source": [
    "#### 5. companion object"
   ]
  },
  {
   "cell_type": "code",
   "execution_count": 56,
   "metadata": {},
   "outputs": [
    {
     "name": "stdout",
     "output_type": "stream",
     "text": [
      "Ninja Name: Naruto, Rank: Genin\n",
      "Ninja Name: Neji, Rank: Jonin\n",
      "Welcome to the Konoha Academy!\n"
     ]
    },
    {
     "data": {
      "text/plain": [
       "defined \u001b[32mclass\u001b[39m \u001b[36mNinja\u001b[39m\n",
       "defined \u001b[32mobject\u001b[39m \u001b[36mNinja\u001b[39m\n",
       "\u001b[36mnaruto\u001b[39m: \u001b[32mNinja\u001b[39m = ammonite.$sess.cmd56$Helper$Ninja@7223580d\n",
       "\u001b[36msasuke\u001b[39m: \u001b[32mNinja\u001b[39m = ammonite.$sess.cmd56$Helper$Ninja@30e92140"
      ]
     },
     "execution_count": 56,
     "metadata": {},
     "output_type": "execute_result"
    }
   ],
   "source": [
    "class Ninja(val name: String, val rank: String) {\n",
    "  def details(): String = s\"Ninja Name: $name, Rank: $rank\"\n",
    "}\n",
    "\n",
    "// Companion object\n",
    "object Ninja {\n",
    "  // Factory method to create a Ninja with default rank\n",
    "  def apply(name: String): Ninja = new Ninja(name, \"Genin\")\n",
    "\n",
    "  // Method to create a Ninja with a specified rank\n",
    "  def withRank(name: String, rank: String): Ninja = new Ninja(name, rank)\n",
    "\n",
    "  def greet(): String = \"Welcome to the Konoha Academy!\"\n",
    "}\n",
    "\n",
    "val naruto = Ninja(\"Naruto\")             \n",
    "val sasuke = Ninja.withRank(\"Neji\", \"Jonin\") \n",
    "\n",
    "println(naruto.details())\n",
    "println(sasuke.details())                   \n",
    "println(Ninja.greet())                   \n"
   ]
  }
 ],
 "metadata": {
  "kernelspec": {
   "display_name": "Scala",
   "language": "scala",
   "name": "scala"
  },
  "language_info": {
   "codemirror_mode": "text/x-scala",
   "file_extension": ".sc",
   "mimetype": "text/x-scala",
   "name": "scala",
   "nbconvert_exporter": "script",
   "version": "2.13.14"
  }
 },
 "nbformat": 4,
 "nbformat_minor": 2
}
