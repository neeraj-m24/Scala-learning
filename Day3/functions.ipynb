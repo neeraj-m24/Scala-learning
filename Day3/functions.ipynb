{
 "cells": [
  {
   "cell_type": "markdown",
   "metadata": {},
   "source": [
    "#### functions returning another function"
   ]
  },
  {
   "cell_type": "code",
   "execution_count": 1,
   "metadata": {},
   "outputs": [
    {
     "data": {
      "text/plain": [
       "defined \u001b[32mfunction\u001b[39m \u001b[36msquare\u001b[39m"
      ]
     },
     "execution_count": 1,
     "metadata": {},
     "output_type": "execute_result"
    }
   ],
   "source": [
    "def square(x:Int):Int = x*x"
   ]
  },
  {
   "cell_type": "code",
   "execution_count": 2,
   "metadata": {},
   "outputs": [
    {
     "name": "stdout",
     "output_type": "stream",
     "text": [
      "400\n"
     ]
    },
    {
     "data": {
      "text/plain": [
       "defined \u001b[32mfunction\u001b[39m \u001b[36mgiveMeLogic\u001b[39m"
      ]
     },
     "execution_count": 2,
     "metadata": {},
     "output_type": "execute_result"
    }
   ],
   "source": [
    "def giveMeLogic():(Int) => Int =  square\n",
    "\n",
    "println(giveMeLogic()(20))"
   ]
  },
  {
   "cell_type": "code",
   "execution_count": 3,
   "metadata": {},
   "outputs": [
    {
     "name": "stdout",
     "output_type": "stream",
     "text": [
      "400\n"
     ]
    },
    {
     "data": {
      "text/plain": [
       "defined \u001b[32mfunction\u001b[39m \u001b[36mgiveMeDeepLgic\u001b[39m"
      ]
     },
     "execution_count": 3,
     "metadata": {},
     "output_type": "execute_result"
    }
   ],
   "source": [
    "def giveMeDeepLgic():() => (Int) => (Int) = giveMeLogic\n",
    "\n",
    "println(giveMeDeepLgic()()(20))"
   ]
  },
  {
   "cell_type": "code",
   "execution_count": 4,
   "metadata": {},
   "outputs": [
    {
     "name": "stdout",
     "output_type": "stream",
     "text": [
      "105"
     ]
    },
    {
     "data": {
      "text/plain": [
       "defined \u001b[32mfunction\u001b[39m \u001b[36mprocess\u001b[39m\n",
       "defined \u001b[32mfunction\u001b[39m \u001b[36mprocessLayer1\u001b[39m"
      ]
     },
     "execution_count": 4,
     "metadata": {},
     "output_type": "execute_result"
    }
   ],
   "source": [
    "def process(x:Int): Int = x+100\n",
    "\n",
    "def processLayer1(x:Int):Int = process(x)\n",
    "\n",
    "print(processLayer1(5))"
   ]
  },
  {
   "cell_type": "code",
   "execution_count": 1,
   "metadata": {},
   "outputs": [
    {
     "name": "stdout",
     "output_type": "stream",
     "text": [
      "20"
     ]
    },
    {
     "data": {
      "text/plain": [
       "defined \u001b[32mfunction\u001b[39m \u001b[36mgiveMeCodeString\u001b[39m"
      ]
     },
     "execution_count": 1,
     "metadata": {},
     "output_type": "execute_result"
    }
   ],
   "source": [
    "def giveMeCodeString(ops:String): (Int,Int) =>Int = {\n",
    "    ops match{\n",
    "        case \"add\" => (a,b) => a+b\n",
    "        case \"mult\" => (a,b) => a*b\n",
    "        case \"sub\" => (a,b) => a-b\n",
    "        case _ => (a,b) => -1\n",
    "    }\n",
    "}\n",
    "\n",
    "print(giveMeCodeString(\"mult\")(4,5))"
   ]
  },
  {
   "cell_type": "code",
   "execution_count": 2,
   "metadata": {},
   "outputs": [
    {
     "name": "stdout",
     "output_type": "stream",
     "text": [
      "inside inner data is 30 and outerscope data is 35\n",
      "inside inner data is 40 and outerscope data is 75\n",
      "inside inner data is 50 and outerscope data is 125\n"
     ]
    },
    {
     "data": {
      "text/plain": [
       "defined \u001b[32mfunction\u001b[39m \u001b[36mwrapper\u001b[39m"
      ]
     },
     "execution_count": 2,
     "metadata": {},
     "output_type": "execute_result"
    }
   ],
   "source": [
    "def wrapper(outer:Int):Unit = {\n",
    "    var outerScope = outer\n",
    "    def inner(data:Int):String = {\n",
    "        outerScope = outerScope+data\n",
    "        println(s\"inside inner data is $data and outerscope data is $outerScope\")\n",
    "        \n",
    "        return \"InnerFinished\"\n",
    "    }\n",
    "    inner(30)\n",
    "    inner(40)\n",
    "    inner(50)\n",
    "}\n",
    "\n",
    "wrapper(5)"
   ]
  },
  {
   "cell_type": "code",
   "execution_count": 18,
   "metadata": {},
   "outputs": [
    {
     "name": "stdout",
     "output_type": "stream",
     "text": [
      "inside inner data is 30 and outerscope data is 40\n",
      "inside inner data is 40 and outerscope data is 80\n"
     ]
    },
    {
     "data": {
      "text/html": [
       "<div class=\"jp-RenderedText\">\n",
       "<pre><code>defined <span style=\"color: rgb(0, 187, 0)\"><span class=\"ansi-green-fg\">function</span></span> <span style=\"color: rgb(0, 187, 187)\"><span class=\"ansi-cyan-fg\">wrapper2</span></span>\n",
       "<span style=\"color: rgb(0, 187, 187)\"><span class=\"ansi-cyan-fg\">nested</span></span>: <span style=\"color: rgb(0, 187, 0)\"><span class=\"ansi-green-fg\">Int</span></span> =&gt; <span style=\"color: rgb(0, 187, 0)\"><span class=\"ansi-green-fg\">String</span></span> = ammonite.$sess.cmd18$Helper$$Lambda/0x0000000301a759f0@6893bd68\n",
       "<span style=\"color: rgb(0, 187, 187)\"><span class=\"ansi-cyan-fg\">res18_2</span></span>: <span style=\"color: rgb(0, 187, 0)\"><span class=\"ansi-green-fg\">String</span></span> = <span style=\"color: rgb(0, 187, 0)\"><span class=\"ansi-green-fg\">&quot;InnerFinished&quot;</span></span>\n",
       "<span style=\"color: rgb(0, 187, 187)\"><span class=\"ansi-cyan-fg\">res18_3</span></span>: <span style=\"color: rgb(0, 187, 0)\"><span class=\"ansi-green-fg\">String</span></span> = <span style=\"color: rgb(0, 187, 0)\"><span class=\"ansi-green-fg\">&quot;InnerFinished&quot;</span></span></code></pre>\n",
       "</div>"
      ],
      "text/plain": [
       "defined \u001b[32mfunction\u001b[39m \u001b[36mwrapper2\u001b[39m\n",
       "\u001b[36mnested\u001b[39m: \u001b[32mInt\u001b[39m => \u001b[32mString\u001b[39m = ammonite.$sess.cmd18$Helper$$Lambda/0x0000000301a759f0@6893bd68\n",
       "\u001b[36mres18_2\u001b[39m: \u001b[32mString\u001b[39m = \u001b[32m\"InnerFinished\"\u001b[39m\n",
       "\u001b[36mres18_3\u001b[39m: \u001b[32mString\u001b[39m = \u001b[32m\"InnerFinished\"\u001b[39m"
      ]
     },
     "metadata": {},
     "output_type": "display_data"
    }
   ],
   "source": [
    "def wrapper2(outer:Int):Int =>String = {\n",
    "    var outerScope = outer\n",
    "    def inner(data:Int):String = {\n",
    "        outerScope = outerScope+data\n",
    "        println(s\"inside inner data is $data and outerscope data is $outerScope\")\n",
    "        \n",
    "        \"InnerFinished\"\n",
    "    }\n",
    "    inner  // inner function reference is getting returned\n",
    "}\n",
    "\n",
    "var nested = wrapper2(10)\n",
    "nested(30)\n",
    "nested(40)"
   ]
  },
  {
   "cell_type": "code",
   "execution_count": 19,
   "metadata": {},
   "outputs": [
    {
     "name": "stdout",
     "output_type": "stream",
     "text": [
      "inside inner data is 30 and outerscope data is 40\n",
      "inside inner data is 40 and outerscope data is 80\n"
     ]
    },
    {
     "data": {
      "text/html": [
       "<div class=\"jp-RenderedText\">\n",
       "<pre><code>defined <span style=\"color: rgb(0, 187, 0)\"><span class=\"ansi-green-fg\">function</span></span> <span style=\"color: rgb(0, 187, 187)\"><span class=\"ansi-cyan-fg\">wrapperWithLambda</span></span>\n",
       "<span style=\"color: rgb(0, 187, 187)\"><span class=\"ansi-cyan-fg\">nested</span></span>: <span style=\"color: rgb(0, 187, 0)\"><span class=\"ansi-green-fg\">Int</span></span> =&gt; <span style=\"color: rgb(0, 187, 0)\"><span class=\"ansi-green-fg\">String</span></span> = ammonite.$sess.cmd18$Helper$$Lambda/0x0000000301a759f0@726a2084\n",
       "<span style=\"color: rgb(0, 187, 187)\"><span class=\"ansi-cyan-fg\">res19_2</span></span>: <span style=\"color: rgb(0, 187, 0)\"><span class=\"ansi-green-fg\">String</span></span> = <span style=\"color: rgb(0, 187, 0)\"><span class=\"ansi-green-fg\">&quot;InnerFinished&quot;</span></span>\n",
       "<span style=\"color: rgb(0, 187, 187)\"><span class=\"ansi-cyan-fg\">res19_3</span></span>: <span style=\"color: rgb(0, 187, 0)\"><span class=\"ansi-green-fg\">String</span></span> = <span style=\"color: rgb(0, 187, 0)\"><span class=\"ansi-green-fg\">&quot;InnerFinished&quot;</span></span></code></pre>\n",
       "</div>"
      ],
      "text/plain": [
       "defined \u001b[32mfunction\u001b[39m \u001b[36mwrapperWithLambda\u001b[39m\n",
       "\u001b[36mnested\u001b[39m: \u001b[32mInt\u001b[39m => \u001b[32mString\u001b[39m = ammonite.$sess.cmd18$Helper$$Lambda/0x0000000301a759f0@726a2084\n",
       "\u001b[36mres19_2\u001b[39m: \u001b[32mString\u001b[39m = \u001b[32m\"InnerFinished\"\u001b[39m\n",
       "\u001b[36mres19_3\u001b[39m: \u001b[32mString\u001b[39m = \u001b[32m\"InnerFinished\"\u001b[39m"
      ]
     },
     "metadata": {},
     "output_type": "display_data"
    }
   ],
   "source": [
    "def wrapperWithLambda(outer:Int):Int =>String = {\n",
    "    var outerScope = outer\n",
    "    var inner:Int => String = (data:Int) => {\n",
    "        outerScope = outerScope+data\n",
    "        println(s\"inside inner data is $data and outerscope data is $outerScope\")\n",
    "        \"inner Finished!\"\n",
    "    } \n",
    "    inner\n",
    "}\n",
    "\n",
    "var nested = wrapper2(10)\n",
    "nested(30)\n",
    "nested(40)"
   ]
  },
  {
   "cell_type": "code",
   "execution_count": 4,
   "metadata": {},
   "outputs": [
    {
     "name": "stdout",
     "output_type": "stream",
     "text": [
      "x is accebile: inner\n",
      "p is accebile: Hello\n"
     ]
    },
    {
     "data": {
      "text/plain": [
       "defined \u001b[32mfunction\u001b[39m \u001b[36mfunction2\u001b[39m"
      ]
     },
     "execution_count": 4,
     "metadata": {},
     "output_type": "execute_result"
    }
   ],
   "source": [
    "def function2(p:String):Unit = {\n",
    "    val x = 20\n",
    "    \n",
    "    def function1(inner:Int, method:String => Unit):Unit = {\n",
    "        method(\"inner\")\n",
    "    }\n",
    "\n",
    "    function1(50, (x) => {\n",
    "        println(\"x is accebile: \"+x)\n",
    "        println(\"p is accebile: \"+p)\n",
    "    })\n",
    "\n",
    "}\n",
    "\n",
    "function2(\"Hello\")"
   ]
  },
  {
   "cell_type": "code",
   "execution_count": 9,
   "metadata": {},
   "outputs": [
    {
     "name": "stdout",
     "output_type": "stream",
     "text": [
      "Baked cake ready for Strawberry cream topping\n",
      "added the topping Strawberry cream\n",
      "()\n",
      "Baked pizza ready for Pineapple topping\n",
      "added the topping Pineapple\n",
      "()\n"
     ]
    },
    {
     "data": {
      "text/plain": [
       "\u001b[36maddTopping\u001b[39m: \u001b[32mString\u001b[39m => \u001b[32mUnit\u001b[39m = ammonite.$sess.cmd9$Helper$$Lambda/0x0000007001a2ec98@46b41dd4\n",
       "\u001b[36mbake\u001b[39m: (\u001b[32mString\u001b[39m, \u001b[32mString\u001b[39m) => \u001b[32mString\u001b[39m = ammonite.$sess.cmd9$Helper$$Lambda/0x0000007001a2f050@11388844\n",
       "\u001b[36mcakeBake\u001b[39m: \u001b[32mString\u001b[39m => \u001b[32mString\u001b[39m = ammonite.$sess.cmd9$Helper$$Lambda/0x0000007001a2f5e8@79272d58\n",
       "\u001b[36mpizzaBake\u001b[39m: \u001b[32mString\u001b[39m => \u001b[32mString\u001b[39m = ammonite.$sess.cmd9$Helper$$Lambda/0x0000007001a2f9a8@6ef665dc\n",
       "\u001b[36mcakePreparation\u001b[39m: \u001b[32mString\u001b[39m => \u001b[32mUnit\u001b[39m = scala.Function1$$Lambda/0x000000700180e420@6f6fd1d0\n",
       "\u001b[36mpizzaPreparation\u001b[39m: \u001b[32mString\u001b[39m => \u001b[32mUnit\u001b[39m = scala.Function1$$Lambda/0x000000700180e420@78bd53d2"
      ]
     },
     "execution_count": 9,
     "metadata": {},
     "output_type": "execute_result"
    }
   ],
   "source": [
    "// partial applied functions\n",
    "\n",
    "val addTopping = (result:String) => {\n",
    "    println(s\"added the topping $result\")\n",
    "}\n",
    "\n",
    "val bake = (ftype:String,topping:String) => {\n",
    "    println(s\"Baked $ftype ready for $topping topping\")\n",
    "    topping\n",
    "}\n",
    "\n",
    "val cakeBake = bake(\"cake\",_:String)    // _ freezed the first parameter(it will be passed by default) and second parameter is required\n",
    "val pizzaBake = bake(\"pizza\",_:String)\n",
    "\n",
    "\n",
    "val cakePreparation = cakeBake andThen addTopping\n",
    "println(cakePreparation(\"Strawberry cream\"))\n",
    "\n",
    "val pizzaPreparation = pizzaBake andThen addTopping\n",
    "println(pizzaPreparation(\"Pineapple\"))"
   ]
  },
  {
   "cell_type": "code",
   "execution_count": 2,
   "metadata": {},
   "outputs": [
    {
     "name": "stdout",
     "output_type": "stream",
     "text": [
      "67"
     ]
    },
    {
     "data": {
      "text/plain": [
       "\u001b[36mmultiplyByTwo\u001b[39m: \u001b[32mInt\u001b[39m => \u001b[32mInt\u001b[39m = ammonite.$sess.cmd2$Helper$$Lambda/0x00000070017eba10@6cd29e2e\n",
       "\u001b[36maddOne\u001b[39m: \u001b[32mInt\u001b[39m => \u001b[32mInt\u001b[39m = ammonite.$sess.cmd2$Helper$$Lambda/0x0000007001810000@2cf12fe4\n",
       "\u001b[36mresult\u001b[39m: \u001b[32mInt\u001b[39m => \u001b[32mInt\u001b[39m = scala.Function1$$Lambda/0x000000700180e420@48ecf25"
      ]
     },
     "execution_count": 2,
     "metadata": {},
     "output_type": "execute_result"
    }
   ],
   "source": [
    "val multiplyByTwo = (x:Int) => x*2\n",
    "val addOne = (x:Int) => x+1\n",
    "\n",
    "val result = multiplyByTwo andThen addOne\n",
    "print(result(33))"
   ]
  }
 ],
 "metadata": {
  "kernelspec": {
   "display_name": "Scala",
   "language": "scala",
   "name": "scala"
  },
  "language_info": {
   "codemirror_mode": "text/x-scala",
   "file_extension": ".sc",
   "mimetype": "text/x-scala",
   "name": "scala",
   "nbconvert_exporter": "script",
   "version": "2.13.14"
  }
 },
 "nbformat": 4,
 "nbformat_minor": 2
}
